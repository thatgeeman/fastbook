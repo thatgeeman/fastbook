{
  "nbformat": 4,
  "nbformat_minor": 0,
  "metadata": {
    "colab": {
      "name": "sota_imagenette.ipynb",
      "provenance": [],
      "collapsed_sections": []
    },
    "kernelspec": {
      "name": "python3",
      "display_name": "Python 3"
    },
    "language_info": {
      "name": "python"
    },
    "accelerator": "GPU"
  },
  "cells": [
    {
      "cell_type": "code",
      "metadata": {
        "colab": {
          "base_uri": "https://localhost:8080/"
        },
        "id": "iY9oy_2aY4S9",
        "outputId": "1e40d358-9c11-4c6b-cdb9-ba1167b0f466"
      },
      "source": [
        "!nvidia-smi"
      ],
      "execution_count": 78,
      "outputs": [
        {
          "output_type": "stream",
          "text": [
            "Tue Apr 13 12:16:29 2021       \n",
            "+-----------------------------------------------------------------------------+\n",
            "| NVIDIA-SMI 460.67       Driver Version: 460.32.03    CUDA Version: 11.2     |\n",
            "|-------------------------------+----------------------+----------------------+\n",
            "| GPU  Name        Persistence-M| Bus-Id        Disp.A | Volatile Uncorr. ECC |\n",
            "| Fan  Temp  Perf  Pwr:Usage/Cap|         Memory-Usage | GPU-Util  Compute M. |\n",
            "|                               |                      |               MIG M. |\n",
            "|===============================+======================+======================|\n",
            "|   0  Tesla K80           Off  | 00000000:00:04.0 Off |                    0 |\n",
            "| N/A   73C    P0    72W / 149W |   8236MiB / 11441MiB |      0%      Default |\n",
            "|                               |                      |                  N/A |\n",
            "+-------------------------------+----------------------+----------------------+\n",
            "                                                                               \n",
            "+-----------------------------------------------------------------------------+\n",
            "| Processes:                                                                  |\n",
            "|  GPU   GI   CI        PID   Type   Process name                  GPU Memory |\n",
            "|        ID   ID                                                   Usage      |\n",
            "|=============================================================================|\n",
            "+-----------------------------------------------------------------------------+\n"
          ],
          "name": "stdout"
        }
      ]
    },
    {
      "cell_type": "code",
      "metadata": {
        "colab": {
          "base_uri": "https://localhost:8080/"
        },
        "id": "X09_cZYabMGZ",
        "outputId": "fab0eab3-2afe-4c41-ce70-0f50679254aa"
      },
      "source": [
        "! pip install fastai"
      ],
      "execution_count": 79,
      "outputs": [
        {
          "output_type": "stream",
          "text": [
            "Requirement already satisfied: fastai in /usr/local/lib/python3.7/dist-packages (2.3.0)\n",
            "Requirement already satisfied: spacy<3 in /usr/local/lib/python3.7/dist-packages (from fastai) (2.2.4)\n",
            "Requirement already satisfied: scikit-learn in /usr/local/lib/python3.7/dist-packages (from fastai) (0.22.2.post1)\n",
            "Requirement already satisfied: torch<1.8,>=1.7.0 in /usr/local/lib/python3.7/dist-packages (from fastai) (1.7.1)\n",
            "Requirement already satisfied: packaging in /usr/local/lib/python3.7/dist-packages (from fastai) (20.9)\n",
            "Requirement already satisfied: pyyaml in /usr/local/lib/python3.7/dist-packages (from fastai) (3.13)\n",
            "Requirement already satisfied: matplotlib in /usr/local/lib/python3.7/dist-packages (from fastai) (3.2.2)\n",
            "Requirement already satisfied: requests in /usr/local/lib/python3.7/dist-packages (from fastai) (2.23.0)\n",
            "Requirement already satisfied: fastcore<1.4,>=1.3.8 in /usr/local/lib/python3.7/dist-packages (from fastai) (1.3.19)\n",
            "Requirement already satisfied: pillow>6.0.0 in /usr/local/lib/python3.7/dist-packages (from fastai) (7.1.2)\n",
            "Requirement already satisfied: pandas in /usr/local/lib/python3.7/dist-packages (from fastai) (1.1.5)\n",
            "Requirement already satisfied: scipy in /usr/local/lib/python3.7/dist-packages (from fastai) (1.4.1)\n",
            "Requirement already satisfied: torchvision<0.9,>=0.8 in /usr/local/lib/python3.7/dist-packages (from fastai) (0.8.2)\n",
            "Requirement already satisfied: fastprogress>=0.2.4 in /usr/local/lib/python3.7/dist-packages (from fastai) (1.0.0)\n",
            "Requirement already satisfied: pip in /usr/local/lib/python3.7/dist-packages (from fastai) (19.3.1)\n",
            "Requirement already satisfied: thinc==7.4.0 in /usr/local/lib/python3.7/dist-packages (from spacy<3->fastai) (7.4.0)\n",
            "Requirement already satisfied: catalogue<1.1.0,>=0.0.7 in /usr/local/lib/python3.7/dist-packages (from spacy<3->fastai) (1.0.0)\n",
            "Requirement already satisfied: wasabi<1.1.0,>=0.4.0 in /usr/local/lib/python3.7/dist-packages (from spacy<3->fastai) (0.8.2)\n",
            "Requirement already satisfied: preshed<3.1.0,>=3.0.2 in /usr/local/lib/python3.7/dist-packages (from spacy<3->fastai) (3.0.5)\n",
            "Requirement already satisfied: numpy>=1.15.0 in /usr/local/lib/python3.7/dist-packages (from spacy<3->fastai) (1.19.5)\n",
            "Requirement already satisfied: cymem<2.1.0,>=2.0.2 in /usr/local/lib/python3.7/dist-packages (from spacy<3->fastai) (2.0.5)\n",
            "Requirement already satisfied: setuptools in /usr/local/lib/python3.7/dist-packages (from spacy<3->fastai) (54.2.0)\n",
            "Requirement already satisfied: srsly<1.1.0,>=1.0.2 in /usr/local/lib/python3.7/dist-packages (from spacy<3->fastai) (1.0.5)\n",
            "Requirement already satisfied: tqdm<5.0.0,>=4.38.0 in /usr/local/lib/python3.7/dist-packages (from spacy<3->fastai) (4.41.1)\n",
            "Requirement already satisfied: murmurhash<1.1.0,>=0.28.0 in /usr/local/lib/python3.7/dist-packages (from spacy<3->fastai) (1.0.5)\n",
            "Requirement already satisfied: plac<1.2.0,>=0.9.6 in /usr/local/lib/python3.7/dist-packages (from spacy<3->fastai) (1.1.3)\n",
            "Requirement already satisfied: blis<0.5.0,>=0.4.0 in /usr/local/lib/python3.7/dist-packages (from spacy<3->fastai) (0.4.1)\n",
            "Requirement already satisfied: joblib>=0.11 in /usr/local/lib/python3.7/dist-packages (from scikit-learn->fastai) (1.0.1)\n",
            "Requirement already satisfied: typing-extensions in /usr/local/lib/python3.7/dist-packages (from torch<1.8,>=1.7.0->fastai) (3.7.4.3)\n",
            "Requirement already satisfied: pyparsing>=2.0.2 in /usr/local/lib/python3.7/dist-packages (from packaging->fastai) (2.4.7)\n",
            "Requirement already satisfied: kiwisolver>=1.0.1 in /usr/local/lib/python3.7/dist-packages (from matplotlib->fastai) (1.3.1)\n",
            "Requirement already satisfied: python-dateutil>=2.1 in /usr/local/lib/python3.7/dist-packages (from matplotlib->fastai) (2.8.1)\n",
            "Requirement already satisfied: cycler>=0.10 in /usr/local/lib/python3.7/dist-packages (from matplotlib->fastai) (0.10.0)\n",
            "Requirement already satisfied: certifi>=2017.4.17 in /usr/local/lib/python3.7/dist-packages (from requests->fastai) (2020.12.5)\n",
            "Requirement already satisfied: idna<3,>=2.5 in /usr/local/lib/python3.7/dist-packages (from requests->fastai) (2.10)\n",
            "Requirement already satisfied: chardet<4,>=3.0.2 in /usr/local/lib/python3.7/dist-packages (from requests->fastai) (3.0.4)\n",
            "Requirement already satisfied: urllib3!=1.25.0,!=1.25.1,<1.26,>=1.21.1 in /usr/local/lib/python3.7/dist-packages (from requests->fastai) (1.24.3)\n",
            "Requirement already satisfied: pytz>=2017.2 in /usr/local/lib/python3.7/dist-packages (from pandas->fastai) (2018.9)\n",
            "Requirement already satisfied: importlib-metadata>=0.20; python_version < \"3.8\" in /usr/local/lib/python3.7/dist-packages (from catalogue<1.1.0,>=0.0.7->spacy<3->fastai) (3.8.1)\n",
            "Requirement already satisfied: six>=1.5 in /usr/local/lib/python3.7/dist-packages (from python-dateutil>=2.1->matplotlib->fastai) (1.15.0)\n",
            "Requirement already satisfied: zipp>=0.5 in /usr/local/lib/python3.7/dist-packages (from importlib-metadata>=0.20; python_version < \"3.8\"->catalogue<1.1.0,>=0.0.7->spacy<3->fastai) (3.4.1)\n"
          ],
          "name": "stdout"
        }
      ]
    },
    {
      "cell_type": "code",
      "metadata": {
        "id": "2Q26ujjjbOL5"
      },
      "source": [
        "from fastai.vision.all import *\n",
        "import gc"
      ],
      "execution_count": 80,
      "outputs": []
    },
    {
      "cell_type": "code",
      "metadata": {
        "id": "gHjaLwvOcUEb"
      },
      "source": [
        "gc.collect()\n",
        "path = untar_data(URLs.IMAGENETTE)"
      ],
      "execution_count": 81,
      "outputs": []
    },
    {
      "cell_type": "code",
      "metadata": {
        "id": "kz7DvHLqcY9B"
      },
      "source": [
        "dblock = DataBlock(blocks=(ImageBlock,CategoryBlock), \n",
        "          get_items = get_image_files,\n",
        "          get_y = parent_label,\n",
        "          item_tfms = Resize(460),\n",
        "          batch_tfms = aug_transforms(min_scale=0.75,size=224))"
      ],
      "execution_count": 82,
      "outputs": []
    },
    {
      "cell_type": "code",
      "metadata": {
        "id": "fiF8UHoqdeX5"
      },
      "source": [
        "dls = dblock.dataloaders(path, bs=64)"
      ],
      "execution_count": 83,
      "outputs": []
    },
    {
      "cell_type": "markdown",
      "metadata": {
        "id": "xj26VSuwd-Zd"
      },
      "source": [
        "### Details\n",
        "\n",
        "loss is cross entropy since we have multiple classes in imagenette. \n",
        "\n",
        "applies log_sigmoid to scale 0 to 1 and then nll_loss to pick the loss for the category that we gave in y.\n",
        "\n"
      ]
    },
    {
      "cell_type": "code",
      "metadata": {
        "id": "Yj5ooyKjdieQ"
      },
      "source": [
        "loss = nn.CrossEntropyLoss()\n",
        "model = xresnet50()\n",
        "learn = Learner(dls, model = model, loss_func=loss, metrics=accuracy)"
      ],
      "execution_count": 84,
      "outputs": []
    },
    {
      "cell_type": "code",
      "metadata": {
        "colab": {
          "base_uri": "https://localhost:8080/",
          "height": 173
        },
        "id": "XCcOj2iXeX1o",
        "outputId": "6fb1fa61-6656-423f-ebfa-75670c2405bb"
      },
      "source": [
        "learn.fit_one_cycle(n_epoch = 4, lr_max = 3e-3)"
      ],
      "execution_count": 85,
      "outputs": [
        {
          "output_type": "display_data",
          "data": {
            "text/html": [
              "<table border=\"1\" class=\"dataframe\">\n",
              "  <thead>\n",
              "    <tr style=\"text-align: left;\">\n",
              "      <th>epoch</th>\n",
              "      <th>train_loss</th>\n",
              "      <th>valid_loss</th>\n",
              "      <th>accuracy</th>\n",
              "      <th>time</th>\n",
              "    </tr>\n",
              "  </thead>\n",
              "  <tbody>\n",
              "    <tr>\n",
              "      <td>0</td>\n",
              "      <td>1.613505</td>\n",
              "      <td>1.446077</td>\n",
              "      <td>0.513443</td>\n",
              "      <td>05:08</td>\n",
              "    </tr>\n",
              "    <tr>\n",
              "      <td>1</td>\n",
              "      <td>1.150217</td>\n",
              "      <td>1.877411</td>\n",
              "      <td>0.506721</td>\n",
              "      <td>05:07</td>\n",
              "    </tr>\n",
              "    <tr>\n",
              "      <td>2</td>\n",
              "      <td>0.830718</td>\n",
              "      <td>0.748242</td>\n",
              "      <td>0.759522</td>\n",
              "      <td>05:07</td>\n",
              "    </tr>\n",
              "    <tr>\n",
              "      <td>3</td>\n",
              "      <td>0.654599</td>\n",
              "      <td>0.585856</td>\n",
              "      <td>0.817401</td>\n",
              "      <td>05:07</td>\n",
              "    </tr>\n",
              "  </tbody>\n",
              "</table>"
            ],
            "text/plain": [
              "<IPython.core.display.HTML object>"
            ]
          },
          "metadata": {
            "tags": []
          }
        }
      ]
    },
    {
      "cell_type": "markdown",
      "metadata": {
        "id": "CwT9P3ztecop"
      },
      "source": [
        "### Normalization\n",
        "\n",
        "aim is to have 0 mean and 1 std."
      ]
    },
    {
      "cell_type": "code",
      "metadata": {
        "id": "7nEGD9E3kskx"
      },
      "source": [
        "x,y = dls.one_batch()"
      ],
      "execution_count": 86,
      "outputs": []
    },
    {
      "cell_type": "code",
      "metadata": {
        "colab": {
          "base_uri": "https://localhost:8080/"
        },
        "id": "CSmhCjHbkuyP",
        "outputId": "88650c3e-bad1-411b-d800-db421c2406c7"
      },
      "source": [
        "x.shape"
      ],
      "execution_count": 87,
      "outputs": [
        {
          "output_type": "execute_result",
          "data": {
            "text/plain": [
              "torch.Size([64, 3, 224, 224])"
            ]
          },
          "metadata": {
            "tags": []
          },
          "execution_count": 87
        }
      ]
    },
    {
      "cell_type": "code",
      "metadata": {
        "colab": {
          "base_uri": "https://localhost:8080/"
        },
        "id": "wkT9HCqrktGD",
        "outputId": "c68a5ffd-5a34-4286-b2ee-a2c661224b94"
      },
      "source": [
        "x.mean(dim=[0,2,3])"
      ],
      "execution_count": 88,
      "outputs": [
        {
          "output_type": "execute_result",
          "data": {
            "text/plain": [
              "TensorImage([0.4548, 0.4634, 0.4383], device='cuda:0')"
            ]
          },
          "metadata": {
            "tags": []
          },
          "execution_count": 88
        }
      ]
    },
    {
      "cell_type": "code",
      "metadata": {
        "colab": {
          "base_uri": "https://localhost:8080/"
        },
        "id": "gqZrLiI9lJlh",
        "outputId": "a169b97f-8bd4-4495-9ad3-2ca911434f1c"
      },
      "source": [
        "x.std(dim = [0,2,3])"
      ],
      "execution_count": 89,
      "outputs": [
        {
          "output_type": "execute_result",
          "data": {
            "text/plain": [
              "TensorImage([0.2783, 0.2801, 0.3014], device='cuda:0')"
            ]
          },
          "metadata": {
            "tags": []
          },
          "execution_count": 89
        }
      ]
    },
    {
      "cell_type": "markdown",
      "metadata": {
        "id": "0R6fE5MznK08"
      },
      "source": [
        "apply imagenet stats as batch norm for dataloaders"
      ]
    },
    {
      "cell_type": "code",
      "metadata": {
        "id": "up907z4EoKAs"
      },
      "source": [
        "dblock = DataBlock(blocks=(ImageBlock,CategoryBlock), \n",
        "          get_items = get_image_files,\n",
        "          get_y = parent_label,\n",
        "          item_tfms = Resize(460),\n",
        "          batch_tfms = [*aug_transforms(min_scale=0.75,size=224),Normalize.from_stats(*imagenet_stats)] )\n"
      ],
      "execution_count": 90,
      "outputs": []
    },
    {
      "cell_type": "code",
      "metadata": {
        "id": "crTt9bpyoTyT"
      },
      "source": [
        "dls = dblock.dataloaders(path, bs=64)"
      ],
      "execution_count": 91,
      "outputs": []
    },
    {
      "cell_type": "markdown",
      "metadata": {
        "id": "Stz9moqapxzk"
      },
      "source": [
        "Check std and mean"
      ]
    },
    {
      "cell_type": "code",
      "metadata": {
        "id": "K7-EzTr8p5x5"
      },
      "source": [
        "x,y = dls.one_batch()"
      ],
      "execution_count": 92,
      "outputs": []
    },
    {
      "cell_type": "code",
      "metadata": {
        "colab": {
          "base_uri": "https://localhost:8080/"
        },
        "id": "qcyXTRUYoYt3",
        "outputId": "43f25607-7fb9-4e53-d1c8-af2e63ebf45f"
      },
      "source": [
        "x.mean(dim=[0,2,3]), x.std(dim = [0,2,3])"
      ],
      "execution_count": 93,
      "outputs": [
        {
          "output_type": "execute_result",
          "data": {
            "text/plain": [
              "(TensorImage([-0.1548, -0.0213,  0.0086], device='cuda:0'),\n",
              " TensorImage([1.2543, 1.2347, 1.3218], device='cuda:0'))"
            ]
          },
          "metadata": {
            "tags": []
          },
          "execution_count": 93
        }
      ]
    },
    {
      "cell_type": "code",
      "metadata": {
        "id": "Ar_ecHX8oVks"
      },
      "source": [
        "loss = nn.CrossEntropyLoss()\n",
        "model = xresnet50()\n",
        "learn = Learner(dls, model = model, loss_func=loss, metrics=accuracy)"
      ],
      "execution_count": 94,
      "outputs": []
    },
    {
      "cell_type": "code",
      "metadata": {
        "colab": {
          "base_uri": "https://localhost:8080/",
          "height": 173
        },
        "id": "VPFqw5NooXC1",
        "outputId": "64dd1ea7-df56-4446-e80f-b57cf96275d0"
      },
      "source": [
        "learn.fit_one_cycle(n_epoch = 4, lr_max = 3e-3)"
      ],
      "execution_count": 95,
      "outputs": [
        {
          "output_type": "display_data",
          "data": {
            "text/html": [
              "<table border=\"1\" class=\"dataframe\">\n",
              "  <thead>\n",
              "    <tr style=\"text-align: left;\">\n",
              "      <th>epoch</th>\n",
              "      <th>train_loss</th>\n",
              "      <th>valid_loss</th>\n",
              "      <th>accuracy</th>\n",
              "      <th>time</th>\n",
              "    </tr>\n",
              "  </thead>\n",
              "  <tbody>\n",
              "    <tr>\n",
              "      <td>0</td>\n",
              "      <td>1.676333</td>\n",
              "      <td>2.126866</td>\n",
              "      <td>0.379014</td>\n",
              "      <td>05:08</td>\n",
              "    </tr>\n",
              "    <tr>\n",
              "      <td>1</td>\n",
              "      <td>1.202324</td>\n",
              "      <td>1.204685</td>\n",
              "      <td>0.607916</td>\n",
              "      <td>05:07</td>\n",
              "    </tr>\n",
              "    <tr>\n",
              "      <td>2</td>\n",
              "      <td>0.900115</td>\n",
              "      <td>0.911839</td>\n",
              "      <td>0.715086</td>\n",
              "      <td>05:08</td>\n",
              "    </tr>\n",
              "    <tr>\n",
              "      <td>3</td>\n",
              "      <td>0.687966</td>\n",
              "      <td>0.624592</td>\n",
              "      <td>0.810680</td>\n",
              "      <td>05:07</td>\n",
              "    </tr>\n",
              "  </tbody>\n",
              "</table>"
            ],
            "text/plain": [
              "<IPython.core.display.HTML object>"
            ]
          },
          "metadata": {
            "tags": []
          }
        }
      ]
    },
    {
      "cell_type": "markdown",
      "metadata": {
        "id": "RjEbsP6PyYjd"
      },
      "source": [
        "### Progressive resizing\n",
        "change the size of the image from small to big image file size like we did for discriminative learning rates."
      ]
    },
    {
      "cell_type": "code",
      "metadata": {
        "id": "LkMba-AXyc7m"
      },
      "source": [
        "def get_dls(path, size=224, bs = 64):\n",
        "  dblock = DataBlock(blocks=(ImageBlock,CategoryBlock), \n",
        "          get_items = get_image_files,\n",
        "          get_y = parent_label,\n",
        "          item_tfms = Resize(460),\n",
        "          batch_tfms = [*aug_transforms(min_scale=0.75,size=size),Normalize.from_stats(*imagenet_stats)] )\n",
        "  dls = dblock.dataloaders(path, bs=bs)\n",
        "  return dls"
      ],
      "execution_count": 96,
      "outputs": []
    },
    {
      "cell_type": "code",
      "metadata": {
        "id": "rj0L5-59yaua"
      },
      "source": [
        "dls = get_dls(path, size = 128, bs = 128)"
      ],
      "execution_count": 97,
      "outputs": []
    },
    {
      "cell_type": "code",
      "metadata": {
        "id": "YN3l6LqS2wep"
      },
      "source": [
        "loss = CrossEntropyLossFlat()\n",
        "model = xresnet50()\n",
        "learn = Learner(dls, model = model, loss_func=loss, metrics=accuracy)"
      ],
      "execution_count": 98,
      "outputs": []
    },
    {
      "cell_type": "code",
      "metadata": {
        "colab": {
          "base_uri": "https://localhost:8080/",
          "height": 173
        },
        "id": "--PoQ_mC2xjI",
        "outputId": "0eb2c3e4-a9fb-42c7-936a-62803c03c79c"
      },
      "source": [
        "learn.fit_one_cycle(n_epoch = 4, lr_max = 3e-3)"
      ],
      "execution_count": 99,
      "outputs": [
        {
          "output_type": "display_data",
          "data": {
            "text/html": [
              "<table border=\"1\" class=\"dataframe\">\n",
              "  <thead>\n",
              "    <tr style=\"text-align: left;\">\n",
              "      <th>epoch</th>\n",
              "      <th>train_loss</th>\n",
              "      <th>valid_loss</th>\n",
              "      <th>accuracy</th>\n",
              "      <th>time</th>\n",
              "    </tr>\n",
              "  </thead>\n",
              "  <tbody>\n",
              "    <tr>\n",
              "      <td>0</td>\n",
              "      <td>1.850843</td>\n",
              "      <td>3.161836</td>\n",
              "      <td>0.343540</td>\n",
              "      <td>02:54</td>\n",
              "    </tr>\n",
              "    <tr>\n",
              "      <td>1</td>\n",
              "      <td>1.268619</td>\n",
              "      <td>1.632863</td>\n",
              "      <td>0.522031</td>\n",
              "      <td>02:52</td>\n",
              "    </tr>\n",
              "    <tr>\n",
              "      <td>2</td>\n",
              "      <td>0.929939</td>\n",
              "      <td>0.806190</td>\n",
              "      <td>0.749066</td>\n",
              "      <td>02:52</td>\n",
              "    </tr>\n",
              "    <tr>\n",
              "      <td>3</td>\n",
              "      <td>0.728064</td>\n",
              "      <td>0.651689</td>\n",
              "      <td>0.799851</td>\n",
              "      <td>02:53</td>\n",
              "    </tr>\n",
              "  </tbody>\n",
              "</table>"
            ],
            "text/plain": [
              "<IPython.core.display.HTML object>"
            ]
          },
          "metadata": {
            "tags": []
          }
        }
      ]
    },
    {
      "cell_type": "markdown",
      "metadata": {
        "id": "JpXUZTTz3XQi"
      },
      "source": [
        "Now update the dls with larger images."
      ]
    },
    {
      "cell_type": "code",
      "metadata": {
        "colab": {
          "base_uri": "https://localhost:8080/",
          "height": 267
        },
        "id": "CVSk17ii5pn4",
        "outputId": "a59d2d09-d3f0-4dae-9cb5-7a5d15cfb0b7"
      },
      "source": [
        "learn.dls = get_dls(path, size = 224, bs = 64)\n",
        "learn.fine_tune(epochs = 5, base_lr = 1e-3)"
      ],
      "execution_count": 100,
      "outputs": [
        {
          "output_type": "display_data",
          "data": {
            "text/html": [
              "<table border=\"1\" class=\"dataframe\">\n",
              "  <thead>\n",
              "    <tr style=\"text-align: left;\">\n",
              "      <th>epoch</th>\n",
              "      <th>train_loss</th>\n",
              "      <th>valid_loss</th>\n",
              "      <th>accuracy</th>\n",
              "      <th>time</th>\n",
              "    </tr>\n",
              "  </thead>\n",
              "  <tbody>\n",
              "    <tr>\n",
              "      <td>0</td>\n",
              "      <td>0.860408</td>\n",
              "      <td>1.197723</td>\n",
              "      <td>0.612024</td>\n",
              "      <td>05:08</td>\n",
              "    </tr>\n",
              "  </tbody>\n",
              "</table>"
            ],
            "text/plain": [
              "<IPython.core.display.HTML object>"
            ]
          },
          "metadata": {
            "tags": []
          }
        },
        {
          "output_type": "display_data",
          "data": {
            "text/html": [
              "<table border=\"1\" class=\"dataframe\">\n",
              "  <thead>\n",
              "    <tr style=\"text-align: left;\">\n",
              "      <th>epoch</th>\n",
              "      <th>train_loss</th>\n",
              "      <th>valid_loss</th>\n",
              "      <th>accuracy</th>\n",
              "      <th>time</th>\n",
              "    </tr>\n",
              "  </thead>\n",
              "  <tbody>\n",
              "    <tr>\n",
              "      <td>0</td>\n",
              "      <td>0.657759</td>\n",
              "      <td>0.731116</td>\n",
              "      <td>0.774832</td>\n",
              "      <td>05:09</td>\n",
              "    </tr>\n",
              "    <tr>\n",
              "      <td>1</td>\n",
              "      <td>0.676394</td>\n",
              "      <td>0.651125</td>\n",
              "      <td>0.794623</td>\n",
              "      <td>05:08</td>\n",
              "    </tr>\n",
              "    <tr>\n",
              "      <td>2</td>\n",
              "      <td>0.566554</td>\n",
              "      <td>0.639279</td>\n",
              "      <td>0.781180</td>\n",
              "      <td>05:08</td>\n",
              "    </tr>\n",
              "    <tr>\n",
              "      <td>3</td>\n",
              "      <td>0.473452</td>\n",
              "      <td>0.454418</td>\n",
              "      <td>0.859597</td>\n",
              "      <td>05:08</td>\n",
              "    </tr>\n",
              "    <tr>\n",
              "      <td>4</td>\n",
              "      <td>0.435567</td>\n",
              "      <td>0.422796</td>\n",
              "      <td>0.866692</td>\n",
              "      <td>05:08</td>\n",
              "    </tr>\n",
              "  </tbody>\n",
              "</table>"
            ],
            "text/plain": [
              "<IPython.core.display.HTML object>"
            ]
          },
          "metadata": {
            "tags": []
          }
        }
      ]
    },
    {
      "cell_type": "markdown",
      "metadata": {
        "id": "qO4Szs_A6Vz6"
      },
      "source": [
        "### Use mixup"
      ]
    },
    {
      "cell_type": "code",
      "metadata": {
        "colab": {
          "base_uri": "https://localhost:8080/",
          "height": 204
        },
        "id": "m5A2xxtXeA9m",
        "outputId": "f21580c4-e493-41be-e3e8-bb03a8f7f317"
      },
      "source": [
        "loss = CrossEntropyLossFlat()\n",
        "model = xresnet50()\n",
        "dls = get_dls(path,size = 64, bs =128)\n",
        "learn = Learner(dls, model = model, loss_func=loss, metrics=accuracy, cbs = MixUp)\n",
        "learn.fit_one_cycle(n_epoch = 5, lr_max = 3e-3)"
      ],
      "execution_count": 124,
      "outputs": [
        {
          "output_type": "display_data",
          "data": {
            "text/html": [
              "<table border=\"1\" class=\"dataframe\">\n",
              "  <thead>\n",
              "    <tr style=\"text-align: left;\">\n",
              "      <th>epoch</th>\n",
              "      <th>train_loss</th>\n",
              "      <th>valid_loss</th>\n",
              "      <th>accuracy</th>\n",
              "      <th>time</th>\n",
              "    </tr>\n",
              "  </thead>\n",
              "  <tbody>\n",
              "    <tr>\n",
              "      <td>0</td>\n",
              "      <td>2.251003</td>\n",
              "      <td>1.884158</td>\n",
              "      <td>0.427931</td>\n",
              "      <td>02:34</td>\n",
              "    </tr>\n",
              "    <tr>\n",
              "      <td>1</td>\n",
              "      <td>1.765774</td>\n",
              "      <td>1.464274</td>\n",
              "      <td>0.520164</td>\n",
              "      <td>02:33</td>\n",
              "    </tr>\n",
              "    <tr>\n",
              "      <td>2</td>\n",
              "      <td>1.521738</td>\n",
              "      <td>1.013355</td>\n",
              "      <td>0.681105</td>\n",
              "      <td>02:33</td>\n",
              "    </tr>\n",
              "    <tr>\n",
              "      <td>3</td>\n",
              "      <td>1.349404</td>\n",
              "      <td>0.902084</td>\n",
              "      <td>0.715086</td>\n",
              "      <td>02:33</td>\n",
              "    </tr>\n",
              "    <tr>\n",
              "      <td>4</td>\n",
              "      <td>1.243419</td>\n",
              "      <td>0.796368</td>\n",
              "      <td>0.752427</td>\n",
              "      <td>02:34</td>\n",
              "    </tr>\n",
              "  </tbody>\n",
              "</table>"
            ],
            "text/plain": [
              "<IPython.core.display.HTML object>"
            ]
          },
          "metadata": {
            "tags": []
          }
        }
      ]
    },
    {
      "cell_type": "code",
      "metadata": {
        "colab": {
          "base_uri": "https://localhost:8080/",
          "height": 422
        },
        "id": "DizRvtZleSjD",
        "outputId": "0682a97c-0f59-4364-d533-e0df505e452f"
      },
      "source": [
        "learn.dls = get_dls(path, size = 128, bs = 64)\n",
        "learn.fine_tune(epochs = 10, base_lr = 1e-3)"
      ],
      "execution_count": 125,
      "outputs": [
        {
          "output_type": "display_data",
          "data": {
            "text/html": [
              "<table border=\"1\" class=\"dataframe\">\n",
              "  <thead>\n",
              "    <tr style=\"text-align: left;\">\n",
              "      <th>epoch</th>\n",
              "      <th>train_loss</th>\n",
              "      <th>valid_loss</th>\n",
              "      <th>accuracy</th>\n",
              "      <th>time</th>\n",
              "    </tr>\n",
              "  </thead>\n",
              "  <tbody>\n",
              "    <tr>\n",
              "      <td>0</td>\n",
              "      <td>1.384305</td>\n",
              "      <td>1.162283</td>\n",
              "      <td>0.619492</td>\n",
              "      <td>05:09</td>\n",
              "    </tr>\n",
              "  </tbody>\n",
              "</table>"
            ],
            "text/plain": [
              "<IPython.core.display.HTML object>"
            ]
          },
          "metadata": {
            "tags": []
          }
        },
        {
          "output_type": "display_data",
          "data": {
            "text/html": [
              "<table border=\"1\" class=\"dataframe\">\n",
              "  <thead>\n",
              "    <tr style=\"text-align: left;\">\n",
              "      <th>epoch</th>\n",
              "      <th>train_loss</th>\n",
              "      <th>valid_loss</th>\n",
              "      <th>accuracy</th>\n",
              "      <th>time</th>\n",
              "    </tr>\n",
              "  </thead>\n",
              "  <tbody>\n",
              "    <tr>\n",
              "      <td>0</td>\n",
              "      <td>1.200563</td>\n",
              "      <td>0.767448</td>\n",
              "      <td>0.765870</td>\n",
              "      <td>05:09</td>\n",
              "    </tr>\n",
              "    <tr>\n",
              "      <td>1</td>\n",
              "      <td>1.188071</td>\n",
              "      <td>0.993022</td>\n",
              "      <td>0.678118</td>\n",
              "      <td>05:09</td>\n",
              "    </tr>\n",
              "    <tr>\n",
              "      <td>2</td>\n",
              "      <td>1.176783</td>\n",
              "      <td>0.904067</td>\n",
              "      <td>0.715459</td>\n",
              "      <td>05:09</td>\n",
              "    </tr>\n",
              "    <tr>\n",
              "      <td>3</td>\n",
              "      <td>1.156271</td>\n",
              "      <td>0.689699</td>\n",
              "      <td>0.797237</td>\n",
              "      <td>05:08</td>\n",
              "    </tr>\n",
              "    <tr>\n",
              "      <td>4</td>\n",
              "      <td>1.104602</td>\n",
              "      <td>0.795535</td>\n",
              "      <td>0.751680</td>\n",
              "      <td>05:09</td>\n",
              "    </tr>\n",
              "    <tr>\n",
              "      <td>5</td>\n",
              "      <td>1.064727</td>\n",
              "      <td>0.656453</td>\n",
              "      <td>0.798357</td>\n",
              "      <td>05:08</td>\n",
              "    </tr>\n",
              "    <tr>\n",
              "      <td>6</td>\n",
              "      <td>1.013233</td>\n",
              "      <td>0.561320</td>\n",
              "      <td>0.826363</td>\n",
              "      <td>05:09</td>\n",
              "    </tr>\n",
              "    <tr>\n",
              "      <td>7</td>\n",
              "      <td>0.995163</td>\n",
              "      <td>0.487473</td>\n",
              "      <td>0.855489</td>\n",
              "      <td>05:09</td>\n",
              "    </tr>\n",
              "    <tr>\n",
              "      <td>8</td>\n",
              "      <td>0.971695</td>\n",
              "      <td>0.470540</td>\n",
              "      <td>0.864824</td>\n",
              "      <td>05:10</td>\n",
              "    </tr>\n",
              "    <tr>\n",
              "      <td>9</td>\n",
              "      <td>0.945726</td>\n",
              "      <td>0.463779</td>\n",
              "      <td>0.864451</td>\n",
              "      <td>05:09</td>\n",
              "    </tr>\n",
              "  </tbody>\n",
              "</table>"
            ],
            "text/plain": [
              "<IPython.core.display.HTML object>"
            ]
          },
          "metadata": {
            "tags": []
          }
        }
      ]
    },
    {
      "cell_type": "markdown",
      "metadata": {
        "id": "oBiDFZNLh_8B"
      },
      "source": [
        "### Test Time Augmentation and mixup"
      ]
    },
    {
      "cell_type": "code",
      "metadata": {
        "colab": {
          "base_uri": "https://localhost:8080/",
          "height": 352
        },
        "id": "Tp8l3KSk78Cl",
        "outputId": "b8a1a300-7a26-45df-d88a-ebd6f72e2a47"
      },
      "source": [
        "loss = CrossEntropyLossFlat()\n",
        "model = xresnet50()\n",
        "dls = get_dls(path,size = 64, bs =128)\n",
        "learn = Learner(dls, model = model, loss_func=loss, metrics=accuracy, cbs = MixUp)\n",
        "learn.fit_one_cycle(n_epoch = 2, lr_max = 3e-3)"
      ],
      "execution_count": 134,
      "outputs": [
        {
          "output_type": "display_data",
          "data": {
            "text/html": [
              "<table border=\"1\" class=\"dataframe\">\n",
              "  <thead>\n",
              "    <tr style=\"text-align: left;\">\n",
              "      <th>epoch</th>\n",
              "      <th>train_loss</th>\n",
              "      <th>valid_loss</th>\n",
              "      <th>accuracy</th>\n",
              "      <th>time</th>\n",
              "    </tr>\n",
              "  </thead>\n",
              "  <tbody>\n",
              "    <tr>\n",
              "      <td>0</td>\n",
              "      <td>2.110919</td>\n",
              "      <td>1.620425</td>\n",
              "      <td>0.486931</td>\n",
              "      <td>02:33</td>\n",
              "    </tr>\n",
              "    <tr>\n",
              "      <td>1</td>\n",
              "      <td>1.583353</td>\n",
              "      <td>1.068782</td>\n",
              "      <td>0.667662</td>\n",
              "      <td>02:33</td>\n",
              "    </tr>\n",
              "  </tbody>\n",
              "</table>"
            ],
            "text/plain": [
              "<IPython.core.display.HTML object>"
            ]
          },
          "metadata": {
            "tags": []
          }
        },
        {
          "output_type": "display_data",
          "data": {
            "text/html": [
              "\n",
              "    <div>\n",
              "        <style>\n",
              "            /* Turns off some styling */\n",
              "            progress {\n",
              "                /* gets rid of default border in Firefox and Opera. */\n",
              "                border: none;\n",
              "                /* Needs to be in here for Safari polyfill so background images work as expected. */\n",
              "                background-size: auto;\n",
              "            }\n",
              "            .progress-bar-interrupted, .progress-bar-interrupted::-webkit-progress-bar {\n",
              "                background: #F44336;\n",
              "            }\n",
              "        </style>\n",
              "      <progress value='0' class='' max='2' style='width:300px; height:20px; vertical-align: middle;'></progress>\n",
              "      \n",
              "    </div>\n",
              "    \n"
            ],
            "text/plain": [
              "<IPython.core.display.HTML object>"
            ]
          },
          "metadata": {
            "tags": []
          }
        },
        {
          "output_type": "display_data",
          "data": {
            "text/html": [
              ""
            ],
            "text/plain": [
              "<IPython.core.display.HTML object>"
            ]
          },
          "metadata": {
            "tags": []
          }
        },
        {
          "output_type": "execute_result",
          "data": {
            "text/plain": [
              "(tensor([[2.7655e-02, 1.5979e-01, 1.8580e-01,  ..., 8.3680e-07, 1.2127e-07,\n",
              "          2.3799e-07],\n",
              "         [4.2141e-03, 2.7513e-03, 3.3834e-03,  ..., 5.0672e-10, 1.4942e-11,\n",
              "          8.3662e-11],\n",
              "         [3.6196e-02, 5.2357e-02, 2.4328e-01,  ..., 5.2097e-08, 1.5099e-08,\n",
              "          3.2253e-08],\n",
              "         ...,\n",
              "         [6.5071e-04, 1.5002e-03, 8.0386e-01,  ..., 4.2782e-10, 2.1710e-10,\n",
              "          3.4612e-10],\n",
              "         [3.0215e-02, 2.1025e-02, 8.9948e-03,  ..., 3.9672e-07, 7.2147e-08,\n",
              "          1.7754e-07],\n",
              "         [2.8242e-01, 5.9730e-02, 1.9130e-02,  ..., 1.8190e-08, 3.3619e-09,\n",
              "          8.7642e-09]]), TensorCategory([2, 9, 2,  ..., 2, 9, 3]))"
            ]
          },
          "metadata": {
            "tags": []
          },
          "execution_count": 134
        }
      ]
    },
    {
      "cell_type": "code",
      "metadata": {
        "colab": {
          "base_uri": "https://localhost:8080/",
          "height": 54
        },
        "id": "PPlhIK-d_QpO",
        "outputId": "641c3762-f7b6-4973-dcba-8a3e07470993"
      },
      "source": [
        "accuracy(*learn.tta())"
      ],
      "execution_count": 136,
      "outputs": [
        {
          "output_type": "display_data",
          "data": {
            "text/html": [
              "\n",
              "    <div>\n",
              "        <style>\n",
              "            /* Turns off some styling */\n",
              "            progress {\n",
              "                /* gets rid of default border in Firefox and Opera. */\n",
              "                border: none;\n",
              "                /* Needs to be in here for Safari polyfill so background images work as expected. */\n",
              "                background-size: auto;\n",
              "            }\n",
              "            .progress-bar-interrupted, .progress-bar-interrupted::-webkit-progress-bar {\n",
              "                background: #F44336;\n",
              "            }\n",
              "        </style>\n",
              "      <progress value='0' class='' max='2' style='width:300px; height:20px; vertical-align: middle;'></progress>\n",
              "      \n",
              "    </div>\n",
              "    \n"
            ],
            "text/plain": [
              "<IPython.core.display.HTML object>"
            ]
          },
          "metadata": {
            "tags": []
          }
        },
        {
          "output_type": "display_data",
          "data": {
            "text/html": [
              ""
            ],
            "text/plain": [
              "<IPython.core.display.HTML object>"
            ]
          },
          "metadata": {
            "tags": []
          }
        },
        {
          "output_type": "execute_result",
          "data": {
            "text/plain": [
              "TensorBase(0.6871)"
            ]
          },
          "metadata": {
            "tags": []
          },
          "execution_count": 136
        }
      ]
    },
    {
      "cell_type": "markdown",
      "metadata": {
        "id": "yP2XtXhOAbP6"
      },
      "source": [
        "Improve by 2%."
      ]
    },
    {
      "cell_type": "markdown",
      "metadata": {
        "id": "A027h2xWh9Pg"
      },
      "source": [
        "### Label Smoothing and mixup"
      ]
    },
    {
      "cell_type": "code",
      "metadata": {
        "colab": {
          "base_uri": "https://localhost:8080/",
          "height": 204
        },
        "id": "G1r_3xXyh_Si",
        "outputId": "eb7294a0-41c8-4778-f97e-376b04a05ea2"
      },
      "source": [
        "loss = LabelSmoothingCrossEntropy() # updated loss\n",
        "model = xresnet50()\n",
        "dls = get_dls(path,size = 64, bs =128)\n",
        "learn = Learner(dls, model = model, loss_func=loss, metrics=accuracy, cbs = MixUp)\n",
        "learn.fit_one_cycle(n_epoch = 5, lr_max = 3e-3)"
      ],
      "execution_count": 138,
      "outputs": [
        {
          "output_type": "display_data",
          "data": {
            "text/html": [
              "<table border=\"1\" class=\"dataframe\">\n",
              "  <thead>\n",
              "    <tr style=\"text-align: left;\">\n",
              "      <th>epoch</th>\n",
              "      <th>train_loss</th>\n",
              "      <th>valid_loss</th>\n",
              "      <th>accuracy</th>\n",
              "      <th>time</th>\n",
              "    </tr>\n",
              "  </thead>\n",
              "  <tbody>\n",
              "    <tr>\n",
              "      <td>0</td>\n",
              "      <td>3.055904</td>\n",
              "      <td>3.891928</td>\n",
              "      <td>0.308439</td>\n",
              "      <td>02:32</td>\n",
              "    </tr>\n",
              "    <tr>\n",
              "      <td>1</td>\n",
              "      <td>2.619092</td>\n",
              "      <td>2.340232</td>\n",
              "      <td>0.557879</td>\n",
              "      <td>02:33</td>\n",
              "    </tr>\n",
              "    <tr>\n",
              "      <td>2</td>\n",
              "      <td>2.398292</td>\n",
              "      <td>2.141437</td>\n",
              "      <td>0.600075</td>\n",
              "      <td>02:34</td>\n",
              "    </tr>\n",
              "    <tr>\n",
              "      <td>3</td>\n",
              "      <td>2.246420</td>\n",
              "      <td>1.849154</td>\n",
              "      <td>0.710232</td>\n",
              "      <td>02:34</td>\n",
              "    </tr>\n",
              "    <tr>\n",
              "      <td>4</td>\n",
              "      <td>2.150051</td>\n",
              "      <td>1.765273</td>\n",
              "      <td>0.753174</td>\n",
              "      <td>02:34</td>\n",
              "    </tr>\n",
              "  </tbody>\n",
              "</table>"
            ],
            "text/plain": [
              "<IPython.core.display.HTML object>"
            ]
          },
          "metadata": {
            "tags": []
          }
        }
      ]
    },
    {
      "cell_type": "code",
      "metadata": {
        "colab": {
          "base_uri": "https://localhost:8080/",
          "height": 359
        },
        "id": "QRQaeFogAi11",
        "outputId": "bc228fb6-7d1c-46d8-f9ff-63d05ef9574c"
      },
      "source": [
        "learn.fit_one_cycle(n_epoch = 10, lr_max = 3e-3)"
      ],
      "execution_count": 139,
      "outputs": [
        {
          "output_type": "display_data",
          "data": {
            "text/html": [
              "<table border=\"1\" class=\"dataframe\">\n",
              "  <thead>\n",
              "    <tr style=\"text-align: left;\">\n",
              "      <th>epoch</th>\n",
              "      <th>train_loss</th>\n",
              "      <th>valid_loss</th>\n",
              "      <th>accuracy</th>\n",
              "      <th>time</th>\n",
              "    </tr>\n",
              "  </thead>\n",
              "  <tbody>\n",
              "    <tr>\n",
              "      <td>0</td>\n",
              "      <td>2.121560</td>\n",
              "      <td>2.128823</td>\n",
              "      <td>0.603809</td>\n",
              "      <td>02:33</td>\n",
              "    </tr>\n",
              "    <tr>\n",
              "      <td>1</td>\n",
              "      <td>2.246579</td>\n",
              "      <td>1.976292</td>\n",
              "      <td>0.681852</td>\n",
              "      <td>02:31</td>\n",
              "    </tr>\n",
              "    <tr>\n",
              "      <td>2</td>\n",
              "      <td>2.263475</td>\n",
              "      <td>2.193108</td>\n",
              "      <td>0.587752</td>\n",
              "      <td>02:30</td>\n",
              "    </tr>\n",
              "    <tr>\n",
              "      <td>3</td>\n",
              "      <td>2.179992</td>\n",
              "      <td>1.811961</td>\n",
              "      <td>0.719940</td>\n",
              "      <td>02:30</td>\n",
              "    </tr>\n",
              "    <tr>\n",
              "      <td>4</td>\n",
              "      <td>2.129698</td>\n",
              "      <td>1.799860</td>\n",
              "      <td>0.724421</td>\n",
              "      <td>02:31</td>\n",
              "    </tr>\n",
              "    <tr>\n",
              "      <td>5</td>\n",
              "      <td>2.068104</td>\n",
              "      <td>1.750461</td>\n",
              "      <td>0.742345</td>\n",
              "      <td>02:31</td>\n",
              "    </tr>\n",
              "    <tr>\n",
              "      <td>6</td>\n",
              "      <td>2.017889</td>\n",
              "      <td>1.661491</td>\n",
              "      <td>0.778939</td>\n",
              "      <td>02:32</td>\n",
              "    </tr>\n",
              "    <tr>\n",
              "      <td>7</td>\n",
              "      <td>1.966701</td>\n",
              "      <td>1.553827</td>\n",
              "      <td>0.820388</td>\n",
              "      <td>02:32</td>\n",
              "    </tr>\n",
              "    <tr>\n",
              "      <td>8</td>\n",
              "      <td>1.924457</td>\n",
              "      <td>1.524308</td>\n",
              "      <td>0.829350</td>\n",
              "      <td>02:31</td>\n",
              "    </tr>\n",
              "    <tr>\n",
              "      <td>9</td>\n",
              "      <td>1.905021</td>\n",
              "      <td>1.514208</td>\n",
              "      <td>0.836072</td>\n",
              "      <td>02:30</td>\n",
              "    </tr>\n",
              "  </tbody>\n",
              "</table>"
            ],
            "text/plain": [
              "<IPython.core.display.HTML object>"
            ]
          },
          "metadata": {
            "tags": []
          }
        }
      ]
    },
    {
      "cell_type": "markdown",
      "metadata": {
        "id": "dWAkV9dVDviB"
      },
      "source": [
        "Usually for these methods, more epochs are needed to see good accuracy."
      ]
    },
    {
      "cell_type": "code",
      "metadata": {
        "id": "OUPOyANpPc9P"
      },
      "source": [
        ""
      ],
      "execution_count": null,
      "outputs": []
    }
  ]
}
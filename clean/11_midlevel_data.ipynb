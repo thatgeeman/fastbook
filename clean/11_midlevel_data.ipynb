{
 "cells": [
  {
   "cell_type": "code",
   "execution_count": 1,
   "metadata": {
    "colab": {
     "base_uri": "https://localhost:8080/"
    },
    "id": "k4Z_UUAKdTb2",
    "outputId": "aa0e8de8-d2b6-44d5-a9f4-338a22e74c7c"
   },
   "outputs": [
    {
     "name": "stdout",
     "output_type": "stream",
     "text": [
      "\u001b[K     |████████████████████████████████| 727kB 4.6MB/s \n",
      "\u001b[K     |████████████████████████████████| 194kB 18.5MB/s \n",
      "\u001b[K     |████████████████████████████████| 51kB 4.3MB/s \n",
      "\u001b[K     |████████████████████████████████| 1.2MB 18.8MB/s \n",
      "\u001b[K     |████████████████████████████████| 12.8MB 241kB/s \n",
      "\u001b[K     |████████████████████████████████| 776.8MB 25kB/s \n",
      "\u001b[K     |████████████████████████████████| 61kB 7.0MB/s \n",
      "\u001b[K     |████████████████████████████████| 51kB 6.4MB/s \n",
      "\u001b[31mERROR: torchtext 0.9.1 has requirement torch==1.8.1, but you'll have torch 1.7.1 which is incompatible.\u001b[0m\n",
      "\u001b[?25hMounted at /content/gdrive\n"
     ]
    }
   ],
   "source": [
    "#hide\n",
    "!pip install -Uqq fastbook\n",
    "import fastbook\n",
    "fastbook.setup_book()"
   ]
  },
  {
   "cell_type": "code",
   "execution_count": 1,
   "metadata": {
    "id": "VC4058frdTb6"
   },
   "outputs": [
    {
     "name": "stderr",
     "output_type": "stream",
     "text": [
      "/home/gg/.local/lib/python3.9/site-packages/torch/cuda/__init__.py:52: UserWarning: CUDA initialization: Found no NVIDIA driver on your system. Please check that you have an NVIDIA GPU and installed a driver from http://www.nvidia.com/Download/index.aspx (Triggered internally at  /pytorch/c10/cuda/CUDAFunctions.cpp:100.)\n",
      "  return torch._C._cuda_getDeviceCount() > 0\n"
     ]
    }
   ],
   "source": [
    "#hide\n",
    "from fastbook import *\n",
    "from IPython.display import display,HTML"
   ]
  },
  {
   "cell_type": "markdown",
   "metadata": {
    "id": "_eP5U3vpdTb8"
   },
   "source": [
    "# Data Munging with fastai's Mid-Level API"
   ]
  },
  {
   "cell_type": "markdown",
   "metadata": {
    "id": "1G9xOccVdTb9"
   },
   "source": [
    "## Going Deeper into fastai's Layered API"
   ]
  },
  {
   "cell_type": "code",
   "execution_count": 2,
   "metadata": {
    "colab": {
     "base_uri": "https://localhost:8080/",
     "height": 35
    },
    "id": "JexFK_KodTb-",
    "outputId": "06f298d6-9b09-446b-9c35-503dea27324d"
   },
   "outputs": [
    {
     "data": {
      "text/plain": [
       "'https://s3.amazonaws.com/fast-ai-nlp/imdb.tgz'"
      ]
     },
     "execution_count": 2,
     "metadata": {},
     "output_type": "execute_result"
    }
   ],
   "source": [
    "from fastai.text.all import *\n",
    "URLs.IMDB"
   ]
  },
  {
   "cell_type": "code",
   "execution_count": 3,
   "metadata": {
    "colab": {
     "base_uri": "https://localhost:8080/",
     "height": 17
    },
    "id": "ZfV-rY_7dTb_",
    "outputId": "f2625e29-d02b-4d19-b50b-47d5ef79faac"
   },
   "outputs": [],
   "source": [
    "dls = TextDataLoaders.from_folder(untar_data(URLs.IMDB), valid='test')"
   ]
  },
  {
   "cell_type": "code",
   "execution_count": 4,
   "metadata": {
    "id": "HzcClKeqdTcA"
   },
   "outputs": [],
   "source": [
    "path = untar_data(URLs.IMDB)\n",
    "dls = DataBlock(\n",
    "    blocks=(TextBlock.from_folder(path),CategoryBlock), \n",
    "    get_y = parent_label,\n",
    "    get_items=partial(get_text_files, folders=['train', 'test']),\n",
    "    splitter=GrandparentSplitter(valid_name='test')\n",
    ").dataloaders(path)"
   ]
  },
  {
   "cell_type": "markdown",
   "metadata": {
    "id": "3cYU7cOmdTcC"
   },
   "source": [
    "### Transforms"
   ]
  },
  {
   "cell_type": "code",
   "execution_count": 5,
   "metadata": {
    "id": "4VxOF41ldTcC"
   },
   "outputs": [],
   "source": [
    "files = get_text_files(path, folders = ['train', 'test'])\n",
    "txts = L(o.open().read() for o in files[:2000])"
   ]
  },
  {
   "cell_type": "code",
   "execution_count": 6,
   "metadata": {
    "colab": {
     "base_uri": "https://localhost:8080/"
    },
    "id": "SS9LkVyudTcD",
    "outputId": "870d7b08-7f4b-46c9-c689-d27afa84e904"
   },
   "outputs": [
    {
     "data": {
      "text/plain": [
       "Path('/home/gg/.fastai/data/imdb')"
      ]
     },
     "execution_count": 6,
     "metadata": {},
     "output_type": "execute_result"
    }
   ],
   "source": [
    "path"
   ]
  },
  {
   "cell_type": "code",
   "execution_count": 7,
   "metadata": {
    "id": "WJiG8HKEdTcE"
   },
   "outputs": [],
   "source": [
    "w_tkn = WordTokenizer() # using the default word tokenizer (spacy still?)"
   ]
  },
  {
   "cell_type": "code",
   "execution_count": 8,
   "metadata": {
    "colab": {
     "base_uri": "https://localhost:8080/"
    },
    "id": "mP6dmBTTdTcE",
    "outputId": "e47eb4b9-b599-43c1-a4d6-3094c96f2bc0"
   },
   "outputs": [
    {
     "data": {
      "text/plain": [
       "(#91) ['xxbos','xxmaj','the','producers','of','this','film','offer','to','pay'...]"
      ]
     },
     "execution_count": 8,
     "metadata": {},
     "output_type": "execute_result"
    }
   ],
   "source": [
    "tok = Tokenizer(w_tkn)\n",
    "tok.setup(txts)\n",
    "toks = txts.map(tok)\n",
    "toks[0]"
   ]
  },
  {
   "cell_type": "code",
   "execution_count": 9,
   "metadata": {
    "colab": {
     "base_uri": "https://localhost:8080/"
    },
    "id": "Zs7MstepdTcF",
    "outputId": "842e386e-0b72-4534-dbd6-c5202ae88f63"
   },
   "outputs": [
    {
     "data": {
      "text/plain": [
       "(#91) ['xxbos','xxmaj','the','producers','of','this','film','offer','to','pay'...]"
      ]
     },
     "execution_count": 9,
     "metadata": {},
     "output_type": "execute_result"
    }
   ],
   "source": [
    "tok = Tokenizer.from_folder(path)\n",
    "tok.setup(txts)\n",
    "toks = txts.map(tok)\n",
    "toks[0]"
   ]
  },
  {
   "cell_type": "code",
   "execution_count": 10,
   "metadata": {
    "colab": {
     "base_uri": "https://localhost:8080/"
    },
    "id": "Qe0d9tR1dTcF",
    "outputId": "e1423ab6-ec70-4780-855f-043e024550e1"
   },
   "outputs": [
    {
     "data": {
      "text/plain": [
       "TensorText([   2,    8,    9,  932,   14,   20,   33, 1154,   15,  857])"
      ]
     },
     "execution_count": 10,
     "metadata": {},
     "output_type": "execute_result"
    }
   ],
   "source": [
    "num = Numericalize()\n",
    "num.setup(toks)\n",
    "nums = toks.map(num)\n",
    "nums[0][:10]"
   ]
  },
  {
   "cell_type": "code",
   "execution_count": 11,
   "metadata": {
    "colab": {
     "base_uri": "https://localhost:8080/"
    },
    "id": "K-6jR9pwdTcG",
    "outputId": "384a8810-b372-4000-9672-32633ff74cf2"
   },
   "outputs": [
    {
     "data": {
      "text/plain": [
       "(#10) ['xxbos','xxmaj','the','producers','of','this','film','offer','to','pay']"
      ]
     },
     "execution_count": 11,
     "metadata": {},
     "output_type": "execute_result"
    }
   ],
   "source": [
    "nums_dec = num.decode(nums[0][:10]); \n",
    "nums_dec"
   ]
  },
  {
   "cell_type": "code",
   "execution_count": 12,
   "metadata": {
    "colab": {
     "base_uri": "https://localhost:8080/",
     "height": 35
    },
    "id": "jQMLJ1ljdTcG",
    "outputId": "ac187ed8-1b16-415c-888c-28886704f522"
   },
   "outputs": [
    {
     "data": {
      "text/plain": [
       "'xxbos xxmaj the producers of this film offer to pay'"
      ]
     },
     "execution_count": 12,
     "metadata": {},
     "output_type": "execute_result"
    }
   ],
   "source": [
    "tok.decode(nums_dec)"
   ]
  },
  {
   "cell_type": "code",
   "execution_count": 13,
   "metadata": {
    "colab": {
     "base_uri": "https://localhost:8080/"
    },
    "id": "7oRrrY0gdTcH",
    "outputId": "7f1e9824-45e1-442a-b3b5-2b2207c8f870"
   },
   "outputs": [
    {
     "data": {
      "text/plain": [
       "((#91) ['xxbos','xxmaj','the','producers','of','this','film','offer','to','pay'...],\n",
       " (#66) ['xxbos',\"'\",'utter','xxmaj','crap',\"'\",'pretty','well','sums','up'...])"
      ]
     },
     "execution_count": 13,
     "metadata": {},
     "output_type": "execute_result"
    }
   ],
   "source": [
    "tok((txts[0], txts[1]))"
   ]
  },
  {
   "cell_type": "markdown",
   "metadata": {
    "id": "5W6B8FKVdTcH"
   },
   "source": [
    "There is always a decode method for such transforms."
   ]
  },
  {
   "cell_type": "markdown",
   "metadata": {
    "id": "5kqssO1ldTcH"
   },
   "source": [
    "### Writing Your Own Transform"
   ]
  },
  {
   "cell_type": "code",
   "execution_count": 14,
   "metadata": {
    "id": "Oo0VVQcypYdu"
   },
   "outputs": [],
   "source": [
    "def f(x:int): return x+1"
   ]
  },
  {
   "cell_type": "code",
   "execution_count": 15,
   "metadata": {
    "id": "PKbLLDjgp0Gp"
   },
   "outputs": [],
   "source": [
    "tfm = Transform(f)"
   ]
  },
  {
   "cell_type": "code",
   "execution_count": 16,
   "metadata": {
    "colab": {
     "base_uri": "https://localhost:8080/"
    },
    "id": "bLD7DhOtp30I",
    "outputId": "d4adb9ad-a426-481a-9c29-008f0584b564"
   },
   "outputs": [
    {
     "data": {
      "text/plain": [
       "3"
      ]
     },
     "execution_count": 16,
     "metadata": {},
     "output_type": "execute_result"
    }
   ],
   "source": [
    "tfm(2)"
   ]
  },
  {
   "cell_type": "code",
   "execution_count": 17,
   "metadata": {
    "colab": {
     "base_uri": "https://localhost:8080/"
    },
    "id": "wbMX_PSrdTcI",
    "outputId": "44195024-0abb-4817-df4b-6c86f60cd664"
   },
   "outputs": [
    {
     "data": {
      "text/plain": [
       "5"
      ]
     },
     "execution_count": 17,
     "metadata": {},
     "output_type": "execute_result"
    }
   ],
   "source": [
    "tfm(4)"
   ]
  },
  {
   "cell_type": "markdown",
   "metadata": {
    "id": "F5-HBpH4p8hD"
   },
   "source": [
    "Doesnt get applied if not int. due to x:int"
   ]
  },
  {
   "cell_type": "code",
   "execution_count": 18,
   "metadata": {
    "colab": {
     "base_uri": "https://localhost:8080/"
    },
    "id": "JP6UDIkjqArV",
    "outputId": "1fdd4fad-441a-4c87-beff-b870005e4f72"
   },
   "outputs": [
    {
     "data": {
      "text/plain": [
       "4.3"
      ]
     },
     "execution_count": 18,
     "metadata": {},
     "output_type": "execute_result"
    }
   ],
   "source": [
    "tfm(4.3)"
   ]
  },
  {
   "cell_type": "code",
   "execution_count": 19,
   "metadata": {
    "id": "ruZMK_NyqD24"
   },
   "outputs": [],
   "source": [
    "tfm?"
   ]
  },
  {
   "cell_type": "code",
   "execution_count": 20,
   "metadata": {
    "id": "S9f085Sw5_pA"
   },
   "outputs": [],
   "source": [
    "def do_twice(func):\n",
    "    def wrapper_do_twice(*args, **kwargs):\n",
    "        func(*args, **kwargs)\n",
    "        return func(*args, **kwargs)\n",
    "    return wrapper_do_twice #return the modified function\n",
    "    # can return the unmodified function func as well.\n",
    "\n",
    "@do_twice\n",
    "def return_greeting(name):\n",
    "    print(\"Creating greeting\")\n",
    "    return f\"Hi {name}\"\n",
    "\n",
    "@do_twice\n",
    "def say_whee():\n",
    "    print(\"Whee!\")"
   ]
  },
  {
   "cell_type": "code",
   "execution_count": 21,
   "metadata": {
    "colab": {
     "base_uri": "https://localhost:8080/",
     "height": 69
    },
    "id": "5Ua4v6GM5_V3",
    "outputId": "5189bdd0-4085-4832-c1b7-35074c6863ca"
   },
   "outputs": [
    {
     "name": "stdout",
     "output_type": "stream",
     "text": [
      "Creating greeting\n",
      "Creating greeting\n"
     ]
    },
    {
     "data": {
      "text/plain": [
       "'Hi Geo'"
      ]
     },
     "execution_count": 21,
     "metadata": {},
     "output_type": "execute_result"
    }
   ],
   "source": [
    "return_greeting('Geo')"
   ]
  },
  {
   "cell_type": "code",
   "execution_count": 22,
   "metadata": {
    "colab": {
     "base_uri": "https://localhost:8080/"
    },
    "id": "WjcHvb2n66Io",
    "outputId": "bede83ab-e05b-413c-d4e0-17071ad0fa3e"
   },
   "outputs": [
    {
     "name": "stdout",
     "output_type": "stream",
     "text": [
      "Whee!\n",
      "Whee!\n"
     ]
    }
   ],
   "source": [
    "say_whee()"
   ]
  },
  {
   "cell_type": "code",
   "execution_count": 23,
   "metadata": {
    "colab": {
     "base_uri": "https://localhost:8080/",
     "height": 35
    },
    "id": "8rwN7X2H5_B-",
    "outputId": "4a55ec6f-8868-4596-bec6-7912c9bf26d0"
   },
   "outputs": [
    {
     "data": {
      "text/plain": [
       "'print'"
      ]
     },
     "execution_count": 23,
     "metadata": {},
     "output_type": "execute_result"
    }
   ],
   "source": [
    "print.__name__"
   ]
  },
  {
   "cell_type": "code",
   "execution_count": 24,
   "metadata": {
    "colab": {
     "base_uri": "https://localhost:8080/",
     "height": 35
    },
    "id": "6BKJCPl45-rs",
    "outputId": "377c4f97-3817-487a-c95e-c7a5e3fe02c1"
   },
   "outputs": [
    {
     "data": {
      "text/plain": [
       "'wrapper_do_twice'"
      ]
     },
     "execution_count": 24,
     "metadata": {},
     "output_type": "execute_result"
    }
   ],
   "source": [
    "say_whee.__name__"
   ]
  },
  {
   "cell_type": "markdown",
   "metadata": {
    "id": "BDQyWDCW7ug0"
   },
   "source": [
    "The name is not correct. say_whee says its an inner function of do_twice."
   ]
  },
  {
   "cell_type": "code",
   "execution_count": 25,
   "metadata": {
    "id": "kEPrxUvq5-Wi"
   },
   "outputs": [],
   "source": [
    "import functools \n",
    "\n",
    "def do_twice(func):\n",
    "    @functools.wraps(func)\n",
    "    def wrapper_do_twice(*args, **kwargs):\n",
    "        func(*args, **kwargs)\n",
    "        return func(*args, **kwargs)\n",
    "    return wrapper_do_twice #return the modified function\n",
    "\n",
    "@do_twice\n",
    "def return_greeting(name):\n",
    "    print(\"Creating greeting\")\n",
    "    return f\"Hi {name}\"\n",
    "\n",
    "@do_twice\n",
    "def say_whee():\n",
    "    \"\"\"\n",
    "    says whee when requested\n",
    "    \"\"\"\n",
    "    print(\"Whee!\")"
   ]
  },
  {
   "cell_type": "code",
   "execution_count": 26,
   "metadata": {
    "colab": {
     "base_uri": "https://localhost:8080/",
     "height": 35
    },
    "id": "ZwGn9q3s7tOC",
    "outputId": "d708bb6b-971f-436e-8925-ac06c5b99b63"
   },
   "outputs": [
    {
     "data": {
      "text/plain": [
       "'say_whee'"
      ]
     },
     "execution_count": 26,
     "metadata": {},
     "output_type": "execute_result"
    }
   ],
   "source": [
    "say_whee.__name__"
   ]
  },
  {
   "cell_type": "code",
   "execution_count": 27,
   "metadata": {
    "colab": {
     "base_uri": "https://localhost:8080/"
    },
    "id": "blTlRtp-7s73",
    "outputId": "67c61232-ed0b-4d88-f948-6819603e0b80"
   },
   "outputs": [
    {
     "name": "stdout",
     "output_type": "stream",
     "text": [
      "Help on function say_whee in module __main__:\n",
      "\n",
      "say_whee()\n",
      "    says whee when requested\n",
      "\n"
     ]
    }
   ],
   "source": [
    "help(say_whee)"
   ]
  },
  {
   "cell_type": "code",
   "execution_count": 28,
   "metadata": {
    "colab": {
     "base_uri": "https://localhost:8080/"
    },
    "id": "1YUVlrUddTcI",
    "outputId": "494bc27f-ba01-4bba-a596-856e9cedb6a2"
   },
   "outputs": [
    {
     "data": {
      "text/plain": [
       "(3, 2.0)"
      ]
     },
     "execution_count": 28,
     "metadata": {},
     "output_type": "execute_result"
    }
   ],
   "source": [
    "@Transform # \n",
    "def f(x:int): return x+1 # function that gets passed into Transform class.\n",
    "f(2),f(2.0)"
   ]
  },
  {
   "cell_type": "code",
   "execution_count": 29,
   "metadata": {
    "id": "nXeS9hq9dTcI"
   },
   "outputs": [],
   "source": [
    "class NormalizeMean(Transform):\n",
    "    def setups(self, items): self.mean = sum(items)/len(items)\n",
    "    def encodes(self, x): return x-self.mean\n",
    "    def decodes(self, x): return x+self.mean"
   ]
  },
  {
   "cell_type": "code",
   "execution_count": 30,
   "metadata": {
    "colab": {
     "base_uri": "https://localhost:8080/"
    },
    "id": "GDofzBpudTcI",
    "outputId": "ccb917c4-b482-4994-d70e-e5867c576ebc"
   },
   "outputs": [
    {
     "data": {
      "text/plain": [
       "(3.0, -1.0, 2.0)"
      ]
     },
     "execution_count": 30,
     "metadata": {},
     "output_type": "execute_result"
    }
   ],
   "source": [
    "tfm = NormalizeMean()\n",
    "tfm.setup([1,2,3,4,5])\n",
    "start = 2\n",
    "y = tfm(start)\n",
    "z = tfm.decode(y)\n",
    "tfm.mean,y,z"
   ]
  },
  {
   "cell_type": "code",
   "execution_count": null,
   "metadata": {
    "id": "KtlMpY3-pWoN"
   },
   "outputs": [],
   "source": []
  },
  {
   "cell_type": "markdown",
   "metadata": {
    "id": "CH1cPkWIdTcJ"
   },
   "source": [
    "### Pipeline"
   ]
  },
  {
   "cell_type": "code",
   "execution_count": 31,
   "metadata": {
    "id": "25YKGNgCGLC0"
   },
   "outputs": [],
   "source": [
    "tok?"
   ]
  },
  {
   "cell_type": "code",
   "execution_count": 32,
   "metadata": {
    "id": "0onoKXdcGL2y"
   },
   "outputs": [],
   "source": [
    "num?"
   ]
  },
  {
   "cell_type": "code",
   "execution_count": 33,
   "metadata": {
    "colab": {
     "base_uri": "https://localhost:8080/"
    },
    "id": "dmkG5zYKdTcJ",
    "outputId": "be8ee970-34df-44a9-8dac-af0a8caa4bbb"
   },
   "outputs": [
    {
     "data": {
      "text/plain": [
       "TensorText([   2,    8,    9,  932,   14,   20,   33, 1154,   15,  857, 2937,    0,   29,  266,   57, 1217,   14,    0,  162,  160])"
      ]
     },
     "execution_count": 33,
     "metadata": {},
     "output_type": "execute_result"
    }
   ],
   "source": [
    "tfms = Pipeline([tok, num])\n",
    "t = tfms(txts[0]); t[:20]"
   ]
  },
  {
   "cell_type": "code",
   "execution_count": 34,
   "metadata": {
    "colab": {
     "base_uri": "https://localhost:8080/",
     "height": 35
    },
    "id": "hjccX4kddTcJ",
    "outputId": "03fa4a61-0862-4431-8689-966d301fef49"
   },
   "outputs": [
    {
     "data": {
      "text/plain": [
       "'xxbos xxmaj the producers of this film offer to pay funeral xxunk for anyone who dies of xxunk while'"
      ]
     },
     "execution_count": 34,
     "metadata": {},
     "output_type": "execute_result"
    }
   ],
   "source": [
    "tfms.decode(t)[:100]"
   ]
  },
  {
   "cell_type": "markdown",
   "metadata": {
    "id": "nj228emmdTcK"
   },
   "source": [
    "## TfmdLists and Datasets: Transformed Collections"
   ]
  },
  {
   "cell_type": "markdown",
   "metadata": {
    "id": "6ivrFoxvdTcK"
   },
   "source": [
    "### TfmdLists"
   ]
  },
  {
   "cell_type": "code",
   "execution_count": 35,
   "metadata": {
    "id": "Z-05j1E-dTcK"
   },
   "outputs": [],
   "source": [
    "tls = TfmdLists(files, [Tokenizer.from_folder(path), Numericalize])"
   ]
  },
  {
   "cell_type": "code",
   "execution_count": 36,
   "metadata": {
    "colab": {
     "base_uri": "https://localhost:8080/"
    },
    "id": "R9rG2-PjdTcK",
    "outputId": "e351fa7d-01a2-4fce-cb1f-b4285b3724fd"
   },
   "outputs": [
    {
     "data": {
      "text/plain": [
       "TensorText([    2,     8,     9,  1125,    14,    20,    32,  1497,    15,   964,  3555, 17704,    29,   272,    50,  1484,    14,  5862,   154,   170])"
      ]
     },
     "execution_count": 36,
     "metadata": {},
     "output_type": "execute_result"
    }
   ],
   "source": [
    "t = tls[0]; t[:20]"
   ]
  },
  {
   "cell_type": "code",
   "execution_count": 37,
   "metadata": {
    "colab": {
     "base_uri": "https://localhost:8080/",
     "height": 35
    },
    "id": "dmgmGxvgdTcL",
    "outputId": "423f9873-8987-454f-dab8-c23b19fbeae5"
   },
   "outputs": [
    {
     "data": {
      "text/plain": [
       "'xxbos xxmaj the producers of this film offer to pay funeral expenses for anyone who dies of fright w'"
      ]
     },
     "execution_count": 37,
     "metadata": {},
     "output_type": "execute_result"
    }
   ],
   "source": [
    "tls.decode(t)[:100]"
   ]
  },
  {
   "cell_type": "code",
   "execution_count": 38,
   "metadata": {
    "colab": {
     "base_uri": "https://localhost:8080/"
    },
    "id": "o2eZz0SudTcL",
    "outputId": "f3ed708a-24dd-4c91-ea35-1b4d4d298412"
   },
   "outputs": [
    {
     "name": "stdout",
     "output_type": "stream",
     "text": [
      "xxbos xxmaj the producers of this film offer to pay funeral expenses for anyone who dies of fright while watching this movie . xxmaj they should have offered intensive psychotherapy for anyone who really enjoyed this stinker . a young couple moves into a house , where a woman who looks like the woman from the couple lived . xxmaj extremely boring , and very predictable . xxmaj in the end i ended up not caring about anyone in this movie . \n",
      "\n",
      " xxmaj avoid this one at all costs .\n"
     ]
    }
   ],
   "source": [
    "tls.show(t)"
   ]
  },
  {
   "cell_type": "code",
   "execution_count": 39,
   "metadata": {
    "colab": {
     "base_uri": "https://localhost:8080/"
    },
    "id": "n5_0VDQRGwmX",
    "outputId": "9267ec55-52ad-4cd3-e95d-939f8d9a2bdf"
   },
   "outputs": [
    {
     "data": {
      "text/plain": [
       "(#50000) [Path('/home/gg/.fastai/data/imdb/train/neg/7104_1.txt'),Path('/home/gg/.fastai/data/imdb/train/neg/3920_3.txt'),Path('/home/gg/.fastai/data/imdb/train/neg/1043_3.txt'),Path('/home/gg/.fastai/data/imdb/train/neg/1163_3.txt'),Path('/home/gg/.fastai/data/imdb/train/neg/272_2.txt'),Path('/home/gg/.fastai/data/imdb/train/neg/4362_2.txt'),Path('/home/gg/.fastai/data/imdb/train/neg/11254_1.txt'),Path('/home/gg/.fastai/data/imdb/train/neg/5536_1.txt'),Path('/home/gg/.fastai/data/imdb/train/neg/1995_1.txt'),Path('/home/gg/.fastai/data/imdb/train/neg/7521_2.txt')...]"
      ]
     },
     "execution_count": 39,
     "metadata": {},
     "output_type": "execute_result"
    }
   ],
   "source": [
    "files"
   ]
  },
  {
   "cell_type": "code",
   "execution_count": 40,
   "metadata": {
    "id": "jfAnDzsedTcL"
   },
   "outputs": [],
   "source": [
    "cut = int(len(files)*0.8)\n",
    "splits = [list(range(cut)), list(range(cut,len(files)))]\n",
    "tls = TfmdLists(files, [Tokenizer.from_folder(path), Numericalize], \n",
    "                splits=splits)"
   ]
  },
  {
   "cell_type": "code",
   "execution_count": 41,
   "metadata": {
    "colab": {
     "base_uri": "https://localhost:8080/"
    },
    "id": "I1joa9uodTcL",
    "outputId": "0939a8e3-bbe7-4741-984a-91ddfd82a75d"
   },
   "outputs": [
    {
     "data": {
      "text/plain": [
       "TensorText([   2,   63, 2034,   63,   37, 2601,   34,   16,  549,   10,    8,   17,   23,  208,   45,  152, 2343,   21,  113,    9])"
      ]
     },
     "execution_count": 41,
     "metadata": {},
     "output_type": "execute_result"
    }
   ],
   "source": [
    "tls.valid[0][:20]"
   ]
  },
  {
   "cell_type": "code",
   "execution_count": 42,
   "metadata": {
    "colab": {
     "base_uri": "https://localhost:8080/"
    },
    "id": "EJTtsyoSdTcM",
    "outputId": "e39fe7b4-0691-4d57-d751-0c25af8ffd15"
   },
   "outputs": [
    {
     "data": {
      "text/plain": [
       "(#50000) ['neg','neg','neg','neg','neg','neg','neg','neg','neg','neg'...]"
      ]
     },
     "execution_count": 42,
     "metadata": {},
     "output_type": "execute_result"
    }
   ],
   "source": [
    "lbls = files.map(parent_label)\n",
    "lbls"
   ]
  },
  {
   "cell_type": "code",
   "execution_count": 43,
   "metadata": {
    "colab": {
     "base_uri": "https://localhost:8080/"
    },
    "id": "PMReOEZ0dTcM",
    "outputId": "acae0209-2a38-462e-baa5-2149cd21762d"
   },
   "outputs": [
    {
     "data": {
      "text/plain": [
       "(['neg', 'pos'], TensorCategory(0), TensorCategory(0))"
      ]
     },
     "execution_count": 43,
     "metadata": {},
     "output_type": "execute_result"
    }
   ],
   "source": [
    "cat = Categorize()\n",
    "cat.setup(lbls)\n",
    "cat.vocab, cat(lbls[0]), cat(lbls[1])"
   ]
  },
  {
   "cell_type": "code",
   "execution_count": 44,
   "metadata": {
    "colab": {
     "base_uri": "https://localhost:8080/"
    },
    "id": "d0pMlVn8dTcM",
    "outputId": "56f0ea37-9150-4ce5-a9a1-b6b366307236"
   },
   "outputs": [
    {
     "data": {
      "text/plain": [
       "TensorCategory(0)"
      ]
     },
     "execution_count": 44,
     "metadata": {},
     "output_type": "execute_result"
    }
   ],
   "source": [
    "tls_y = TfmdLists(files, [parent_label, Categorize()])\n",
    "tls_y[0]"
   ]
  },
  {
   "cell_type": "markdown",
   "metadata": {
    "id": "Gr1xpEcfdTcM"
   },
   "source": [
    "### Datasets"
   ]
  },
  {
   "cell_type": "code",
   "execution_count": 45,
   "metadata": {
    "colab": {
     "base_uri": "https://localhost:8080/"
    },
    "id": "Po5yiyeVdTcM",
    "outputId": "dbeb4d6a-fa5e-4b51-8312-beaf750e6bd4"
   },
   "outputs": [
    {
     "data": {
      "text/plain": [
       "(TensorText([    2,     8,     9,  1125,    14,    20,    32,  1497,    15,   964,  3555, 17704,    29,   272,    50,  1484,    14,  5862,   154,   170]),\n",
       " TensorCategory(0))"
      ]
     },
     "execution_count": 45,
     "metadata": {},
     "output_type": "execute_result"
    }
   ],
   "source": [
    "x_tfms = [Tokenizer.from_folder(path), Numericalize]\n",
    "y_tfms = [parent_label, Categorize()]\n",
    "dsets = Datasets(files, [x_tfms, y_tfms])\n",
    "x,y = dsets[0]\n",
    "x[:20],y"
   ]
  },
  {
   "cell_type": "code",
   "execution_count": 46,
   "metadata": {
    "colab": {
     "base_uri": "https://localhost:8080/"
    },
    "id": "QUuZSQPHdTcN",
    "outputId": "3dfe3c62-7c3d-49f4-b7e6-955b14f543c9"
   },
   "outputs": [
    {
     "data": {
      "text/plain": [
       "(TensorText([   2,   63, 2034,   63,   37, 2601,   34,   16,  549,   10,    8,   17,   23,  208,   45,  152, 2343,   21,  113,    9]),\n",
       " TensorCategory(1))"
      ]
     },
     "execution_count": 46,
     "metadata": {},
     "output_type": "execute_result"
    }
   ],
   "source": [
    "x_tfms = [Tokenizer.from_folder(path), Numericalize]\n",
    "y_tfms = [parent_label, Categorize()]\n",
    "dsets = Datasets(files, [x_tfms, y_tfms], splits=splits)\n",
    "x,y = dsets.valid[0]\n",
    "x[:20],y"
   ]
  },
  {
   "cell_type": "code",
   "execution_count": 47,
   "metadata": {
    "colab": {
     "base_uri": "https://localhost:8080/"
    },
    "id": "l-PC-gvJdTcN",
    "outputId": "4c9a2e72-e2c9-4289-f891-d349071921cd"
   },
   "outputs": [
    {
     "data": {
      "text/plain": [
       "(\"xxbos ' fame ' ( 1980 ) is brilliant . xxmaj it 's got all these qualities that made the late 70 's movies so great . xxmaj it is proud of its directness and not ashamed of being over the top . \\n\\n xxmaj what really matters here , is the journey , not the destination . xxmaj ignorant idiots with soap opera mentality , will never realize that ' fame ' is about the struggles , anxieties and triumphs of these young people , not about their careers . \\n\\n xxmaj ironically enough , none of the very talented actors of ' fame ' made it in xxmaj hollywood . ' fame ' marked the end of an era . xxmaj the end of artistic freedom and experimentation and the beginning of commercialization and political correctness . xxmaj it 's the last statement of a generation that had a voice of its own . \\n\\n 10 / 10\",\n",
       " 'pos')"
      ]
     },
     "execution_count": 47,
     "metadata": {},
     "output_type": "execute_result"
    }
   ],
   "source": [
    "t = dsets.valid[0]\n",
    "dsets.decode(t)"
   ]
  },
  {
   "cell_type": "code",
   "execution_count": 48,
   "metadata": {
    "id": "xF8K0hfWdTcN"
   },
   "outputs": [],
   "source": [
    "dls = dsets.dataloaders(bs=64, before_batch=pad_input)"
   ]
  },
  {
   "cell_type": "code",
   "execution_count": 49,
   "metadata": {
    "id": "7Ry9rEnjdTcN"
   },
   "outputs": [],
   "source": [
    "tfms = [[Tokenizer.from_folder(path), Numericalize], [parent_label, Categorize]] # passing xy transforms together\n",
    "files = get_text_files(path, folders = ['train', 'test'])\n",
    "splits = GrandparentSplitter(valid_name='test')(files)\n",
    "dsets = Datasets(files, tfms, splits=splits)\n",
    "dls = dsets.dataloaders(dl_type=SortedDL, before_batch=pad_input)"
   ]
  },
  {
   "cell_type": "code",
   "execution_count": 50,
   "metadata": {
    "id": "ybHl2LfWdTcO"
   },
   "outputs": [],
   "source": [
    "path = untar_data(URLs.IMDB)\n",
    "dls = DataBlock(\n",
    "    blocks=(TextBlock.from_folder(path),CategoryBlock),\n",
    "    get_y = parent_label,\n",
    "    get_items=partial(get_text_files, folders=['train', 'test']),\n",
    "    splitter=GrandparentSplitter(valid_name='test')\n",
    ").dataloaders(path)"
   ]
  },
  {
   "cell_type": "markdown",
   "metadata": {
    "id": "6WefUp-WdTcO"
   },
   "source": [
    "## Applying the Mid-Level Data API: SiamesePair"
   ]
  },
  {
   "cell_type": "markdown",
   "metadata": {
    "id": "l72Tt7F4OGuP"
   },
   "source": [
    "Use the tensorflow flowers dataset instead."
   ]
  },
  {
   "cell_type": "code",
   "execution_count": 51,
   "metadata": {
    "colab": {
     "base_uri": "https://localhost:8080/",
     "height": 35
    },
    "id": "XOX84EmfNkgR",
    "outputId": "c4a52181-4cb3-4f01-9f2c-c6a803fd8416"
   },
   "outputs": [
    {
     "data": {
      "text/html": [],
      "text/plain": [
       "<IPython.core.display.HTML object>"
      ]
     },
     "metadata": {},
     "output_type": "display_data"
    },
    {
     "data": {
      "text/plain": [
       "'/home/gg/.fastai/archive/flower_photos.tgz'"
      ]
     },
     "execution_count": 51,
     "metadata": {},
     "output_type": "execute_result"
    }
   ],
   "source": [
    "url = 'http://download.tensorflow.org/example_images/flower_photos.tgz'\n",
    "path = download_data(url)\n",
    "path.as_posix()"
   ]
  },
  {
   "cell_type": "code",
   "execution_count": 52,
   "metadata": {
    "colab": {
     "base_uri": "https://localhost:8080/"
    },
    "id": "4EyK6mpsNtIz",
    "outputId": "df04fc52-f065-4e35-bc12-7531077897db"
   },
   "outputs": [
    {
     "data": {
      "text/plain": [
       "(#6) [Path('/home/gg/.fastai/data/flower_photos/tulips'),Path('/home/gg/.fastai/data/flower_photos/dandelion'),Path('/home/gg/.fastai/data/flower_photos/LICENSE.txt'),Path('/home/gg/.fastai/data/flower_photos/daisy'),Path('/home/gg/.fastai/data/flower_photos/roses'),Path('/home/gg/.fastai/data/flower_photos/sunflowers')]"
      ]
     },
     "execution_count": 52,
     "metadata": {},
     "output_type": "execute_result"
    }
   ],
   "source": [
    "data = untar_data(path.as_posix()) # or pass str(path)\n",
    "(data).ls()"
   ]
  },
  {
   "cell_type": "code",
   "execution_count": 53,
   "metadata": {
    "id": "hShhTf8kdTcO"
   },
   "outputs": [],
   "source": [
    "from fastai.vision.all import *\n",
    "path = data\n",
    "files = get_image_files(path)"
   ]
  },
  {
   "cell_type": "code",
   "execution_count": 54,
   "metadata": {
    "colab": {
     "base_uri": "https://localhost:8080/"
    },
    "id": "CeyOOV3hOC3-",
    "outputId": "fd625ea0-7e07-4092-c392-fa8b882f49bd"
   },
   "outputs": [
    {
     "data": {
      "text/plain": [
       "(#3670) [Path('/home/gg/.fastai/data/flower_photos/tulips/8712266605_3787e346cd_n.jpg'),Path('/home/gg/.fastai/data/flower_photos/tulips/14071516088_b526946e17_n.jpg'),Path('/home/gg/.fastai/data/flower_photos/tulips/485266837_671def8627.jpg'),Path('/home/gg/.fastai/data/flower_photos/tulips/14093565032_a8f1e349d1.jpg'),Path('/home/gg/.fastai/data/flower_photos/tulips/3485767306_6db7bdf536.jpg'),Path('/home/gg/.fastai/data/flower_photos/tulips/5691090657_2f1e9bf49e_n.jpg'),Path('/home/gg/.fastai/data/flower_photos/tulips/5665080897_0796f726c9_m.jpg'),Path('/home/gg/.fastai/data/flower_photos/tulips/2436998042_4906ea07af.jpg'),Path('/home/gg/.fastai/data/flower_photos/tulips/15976769174_1d50f46ca1_m.jpg'),Path('/home/gg/.fastai/data/flower_photos/tulips/14061132852_89122de5f9_n.jpg')...]"
      ]
     },
     "execution_count": 54,
     "metadata": {},
     "output_type": "execute_result"
    }
   ],
   "source": [
    "files"
   ]
  },
  {
   "cell_type": "code",
   "execution_count": 55,
   "metadata": {
    "id": "mHhiXndtOuxb"
   },
   "outputs": [],
   "source": [
    "isinstance?"
   ]
  },
  {
   "cell_type": "code",
   "execution_count": 56,
   "metadata": {
    "id": "kFZCc0chO2J1"
   },
   "outputs": [
    {
     "ename": "SyntaxError",
     "evalue": "invalid syntax (<ipython-input-56-4a981c59cc77>, line 1)",
     "output_type": "error",
     "traceback": [
      "\u001b[0;36m  File \u001b[0;32m\"<ipython-input-56-4a981c59cc77>\"\u001b[0;36m, line \u001b[0;32m1\u001b[0m\n\u001b[0;31m    Tensor.permute? # Returns a view of the original tensor with its dimensions permuted, The desired ordering of dimensions (2,0,1)\u001b[0m\n\u001b[0m                  ^\u001b[0m\n\u001b[0;31mSyntaxError\u001b[0m\u001b[0;31m:\u001b[0m invalid syntax\n"
     ]
    }
   ],
   "source": [
    "Tensor.permute? # Returns a view of the original tensor with its dimensions permuted, The desired ordering of dimensions (2,0,1)"
   ]
  },
  {
   "cell_type": "code",
   "execution_count": null,
   "metadata": {
    "id": "64Hr_MHhdTcP"
   },
   "outputs": [],
   "source": [
    "class SiameseImage(fastuple): # get init from fastuple\n",
    "    def show(self, ctx=None, **kwargs): \n",
    "        img1,img2,same_breed = self # image, \n",
    "        if not isinstance(img1, Tensor): # check if image is of tensor class\n",
    "            if img2.size != img1.size:  # check if images are of same size, cos have to create a single frame\n",
    "              img2 = img2.resize(img1.size)\n",
    "            t1,t2 = tensor(img1),tensor(img2) # make images to tensors\n",
    "            t1,t2 = t1.permute(2,0,1),t2.permute(2,0,1)\n",
    "        else: t1,t2 = img1,img2 \n",
    "        line = t1.new_zeros(t1.shape[0], t1.shape[1], 10) # make an array of zeros of this shape \n",
    "        return show_image(torch.cat([t1,line,t2], dim=2), \n",
    "                          title=same_breed, ctx=ctx)"
   ]
  },
  {
   "cell_type": "markdown",
   "metadata": {
    "id": "xFVgmyTyPv6I"
   },
   "source": [
    "The case where two images are same"
   ]
  },
  {
   "cell_type": "code",
   "execution_count": null,
   "metadata": {
    "colab": {
     "base_uri": "https://localhost:8080/",
     "height": 150
    },
    "id": "0f6ctXkrdTcP",
    "outputId": "8843a695-bf47-4a41-bc40-e0e0f55eaa9d"
   },
   "outputs": [],
   "source": [
    "img = PILImage.create(files[0])\n",
    "s = SiameseImage(img, img, True)\n",
    "s.show();"
   ]
  },
  {
   "cell_type": "code",
   "execution_count": null,
   "metadata": {
    "colab": {
     "base_uri": "https://localhost:8080/",
     "height": 150
    },
    "id": "otapEBQhdTcP",
    "outputId": "768d856f-f216-41f2-c0cd-f52b172c3016"
   },
   "outputs": [],
   "source": [
    "img1 = PILImage.create(files[1])\n",
    "img = PILImage.create(files[0])\n",
    "s1 = SiameseImage(img, img1, False)\n",
    "s1.show();"
   ]
  },
  {
   "cell_type": "code",
   "execution_count": null,
   "metadata": {
    "id": "kFWPE0VtQLZC"
   },
   "outputs": [],
   "source": [
    "Resize??"
   ]
  },
  {
   "cell_type": "code",
   "execution_count": null,
   "metadata": {
    "colab": {
     "base_uri": "https://localhost:8080/",
     "height": 183
    },
    "id": "vjDxUYcidTcP",
    "outputId": "9a9f44d0-8362-4726-8885-842abb83e0c9"
   },
   "outputs": [],
   "source": [
    "s2 = Resize(224)(s1)\n",
    "s2.show();"
   ]
  },
  {
   "cell_type": "code",
   "execution_count": null,
   "metadata": {
    "colab": {
     "base_uri": "https://localhost:8080/"
    },
    "id": "QjVlCwPiRHn5",
    "outputId": "6fd70b49-d9bd-4bb4-c4a1-4a1d91701160"
   },
   "outputs": [],
   "source": [
    "files.map(parent_label)"
   ]
  },
  {
   "cell_type": "code",
   "execution_count": null,
   "metadata": {
    "id": "wC1pC9FDdTcQ"
   },
   "outputs": [],
   "source": [
    "def label_func(fname):\n",
    "    return parent_label(fname)\n",
    "    #return re.match(r'^(.*)_\\d+.jpg$', fname.name).groups()[0]"
   ]
  },
  {
   "cell_type": "code",
   "execution_count": null,
   "metadata": {
    "colab": {
     "base_uri": "https://localhost:8080/",
     "height": 35
    },
    "id": "giwck7xvYuyl",
    "outputId": "51458a1c-2178-41a2-943b-6ff6d1ffe19d"
   },
   "outputs": [],
   "source": [
    "label_func(files[0])"
   ]
  },
  {
   "cell_type": "code",
   "execution_count": null,
   "metadata": {
    "colab": {
     "base_uri": "https://localhost:8080/"
    },
    "id": "72rhdqVuRIWw",
    "outputId": "73528fea-47c9-4113-a6b2-102390bb6e78"
   },
   "outputs": [],
   "source": [
    "labels = files.map(parent_label).unique()\n",
    "labels"
   ]
  },
  {
   "cell_type": "markdown",
   "metadata": {
    "id": "ZkHjJNPdZLmD"
   },
   "source": [
    "Make a dictionary with correspoinding flowers"
   ]
  },
  {
   "cell_type": "code",
   "execution_count": 155,
   "metadata": {
    "colab": {
     "base_uri": "https://localhost:8080/"
    },
    "id": "Zkj_y8S2YrbM",
    "outputId": "24f088fb-b4b1-45de-c933-d42796c877bf"
   },
   "outputs": [
    {
     "data": {
      "text/plain": [
       "{'daisy': (#633) [Path('/root/.fastai/data/flower_photos/daisy/5135131051_102d4878ca_n.jpg'),Path('/root/.fastai/data/flower_photos/daisy/4561871220_47f420ca59_m.jpg'),Path('/root/.fastai/data/flower_photos/daisy/2619413565_61a6cd3ac9_m.jpg'),Path('/root/.fastai/data/flower_photos/daisy/8446495985_f72d851482.jpg'),Path('/root/.fastai/data/flower_photos/daisy/11870378973_2ec1919f12.jpg'),Path('/root/.fastai/data/flower_photos/daisy/8694909523_3ca25d449d_n.jpg'),Path('/root/.fastai/data/flower_photos/daisy/5434913005_409c1e8b56_n.jpg'),Path('/root/.fastai/data/flower_photos/daisy/7630511450_02d3292e90.jpg'),Path('/root/.fastai/data/flower_photos/daisy/4694730335_2553e77aa5_z.jpg'),Path('/root/.fastai/data/flower_photos/daisy/9346508462_f0af3163f4.jpg')...],\n",
       " 'dandelion': (#898) [Path('/root/.fastai/data/flower_photos/dandelion/1128626197_3f52424215_n.jpg'),Path('/root/.fastai/data/flower_photos/dandelion/2330343016_23acc484ee.jpg'),Path('/root/.fastai/data/flower_photos/dandelion/7295618968_c08a326cc1_m.jpg'),Path('/root/.fastai/data/flower_photos/dandelion/451965300_619b781dc9_m.jpg'),Path('/root/.fastai/data/flower_photos/dandelion/6888894675_524a6accab_n.jpg'),Path('/root/.fastai/data/flower_photos/dandelion/506659320_6fac46551e.jpg'),Path('/root/.fastai/data/flower_photos/dandelion/151861297_55b10a03a6_n.jpg'),Path('/root/.fastai/data/flower_photos/dandelion/4633514720_22e82c5f7c_m.jpg'),Path('/root/.fastai/data/flower_photos/dandelion/2503034372_db7867de51_m.jpg'),Path('/root/.fastai/data/flower_photos/dandelion/16953818045_fea21c8bf8.jpg')...],\n",
       " 'roses': (#641) [Path('/root/.fastai/data/flower_photos/roses/8642943283_47e44d049d_m.jpg'),Path('/root/.fastai/data/flower_photos/roses/12165480946_c4a3fe182d_n.jpg'),Path('/root/.fastai/data/flower_photos/roses/8692040971_826614516f_n.jpg'),Path('/root/.fastai/data/flower_photos/roses/165985535_7178ce6350.jpg'),Path('/root/.fastai/data/flower_photos/roses/4900231976_f8ced2b42a_n.jpg'),Path('/root/.fastai/data/flower_photos/roses/18741313803_1bbf842fc6_n.jpg'),Path('/root/.fastai/data/flower_photos/roses/5273722065_c85d8543c2_m.jpg'),Path('/root/.fastai/data/flower_photos/roses/466486216_ab13b55763.jpg'),Path('/root/.fastai/data/flower_photos/roses/6255593451_b8a3aa8f7a_m.jpg'),Path('/root/.fastai/data/flower_photos/roses/5979193298_639e877248.jpg')...],\n",
       " 'sunflowers': (#699) [Path('/root/.fastai/data/flower_photos/sunflowers/20965412955_2c640b13bd.jpg'),Path('/root/.fastai/data/flower_photos/sunflowers/9655029591_7a77f87500.jpg'),Path('/root/.fastai/data/flower_photos/sunflowers/27466794_57e4fe5656.jpg'),Path('/root/.fastai/data/flower_photos/sunflowers/20344366953_44fb51051b.jpg'),Path('/root/.fastai/data/flower_photos/sunflowers/15240466871_ec45b65554_m.jpg'),Path('/root/.fastai/data/flower_photos/sunflowers/184683023_737fec5b18.jpg'),Path('/root/.fastai/data/flower_photos/sunflowers/2598973480_07de93e91d_n.jpg'),Path('/root/.fastai/data/flower_photos/sunflowers/44079668_34dfee3da1_n.jpg'),Path('/root/.fastai/data/flower_photos/sunflowers/2883115609_5a69357b5d_m.jpg'),Path('/root/.fastai/data/flower_photos/sunflowers/877083343_e3338c4125.jpg')...],\n",
       " 'tulips': (#799) [Path('/root/.fastai/data/flower_photos/tulips/15647243236_2778501cf5_n.jpg'),Path('/root/.fastai/data/flower_photos/tulips/5813495998_64be1b8ab6_n.jpg'),Path('/root/.fastai/data/flower_photos/tulips/8690791226_b1f015259f_n.jpg'),Path('/root/.fastai/data/flower_photos/tulips/8623170936_83f4152431.jpg'),Path('/root/.fastai/data/flower_photos/tulips/14097111174_87a2e7e0c7_n.jpg'),Path('/root/.fastai/data/flower_photos/tulips/13911047024_8966d70560_n.jpg'),Path('/root/.fastai/data/flower_photos/tulips/112951086_150a59d499_n.jpg'),Path('/root/.fastai/data/flower_photos/tulips/17282288501_e8738c9cfb_n.jpg'),Path('/root/.fastai/data/flower_photos/tulips/14068295074_cd8b85bffa.jpg'),Path('/root/.fastai/data/flower_photos/tulips/2426849837_baefd9a518_n.jpg')...]}"
      ]
     },
     "execution_count": 155,
     "metadata": {
      "tags": []
     },
     "output_type": "execute_result"
    }
   ],
   "source": [
    "{l: L(f for f in files if label_func(f) == l) for l in labels} # L makes a list"
   ]
  },
  {
   "cell_type": "code",
   "execution_count": null,
   "metadata": {
    "id": "fbVTm-M5Zl89"
   },
   "outputs": [],
   "source": [
    "# splits[1] \n",
    "cut = int(len(files)*0.8)\n",
    "splits = [list(range(cut)), list(range(cut,len(files)))] # with train and valid indices"
   ]
  },
  {
   "cell_type": "code",
   "execution_count": null,
   "metadata": {
    "colab": {
     "base_uri": "https://localhost:8080/"
    },
    "id": "JUFbm5Aici8i",
    "outputId": "3c7f878b-5bdb-4b81-eb10-d041896a58bd"
   },
   "outputs": [],
   "source": [
    "files[splits[1][0]]"
   ]
  },
  {
   "cell_type": "code",
   "execution_count": 182,
   "metadata": {
    "id": "Gm_galNndTcQ"
   },
   "outputs": [],
   "source": [
    "class SiameseTransform(Transform):\n",
    "    def __init__(self, files, label_func, splits):\n",
    "        self.labels = files.map(parent_label).unique() # get all the possible labels\n",
    "        self.lbl2files = {l: L(f for f in files if label_func(f) == l) \n",
    "                          for l in self.labels} # make a list of the form {'class': [files]}\n",
    "        self.label_func = label_func\n",
    "        self.valid_split = files[splits[1]]\n",
    "        self.valid = {f: self._draw(f) for f in self.valid_split} # to make sure validation set is alwas the same\n",
    "        # make the validation dict randomly from the valid split\n",
    "        # with f is the file name key value would be the new file\n",
    "        \n",
    "    def encodes(self, f):\n",
    "        f2, t = self.valid.get(f, self._draw(f)) # get is a dict function to get for the key f, find a value from its values (valid)\n",
    "        # get a pair for f and the bool if it is true/false\n",
    "        # self._draw(f) is the Value to be returned if the key f is not found.\n",
    "        self.img1_class, self.img2_class = self.label_func(f), self.label_func(f2)\n",
    "        self.img1, self.img2 = PILImage.create(f),PILImage.create(f2) # cleate Pillow image, will be made tensor by the SiameseImage class\n",
    "        return SiameseImage(self.img1, self.img2, t) # class that makes a siamese image. It takes a tuple\n",
    "    \n",
    "    def _draw(self, f): # function to pick an image\n",
    "        same = random.random() < 0.5 # random probaility less than 0.5 then it will be same, a boolean\n",
    "        cls = self.label_func(f) # class of file to pick one from its own class, available in lbl2files dict\n",
    "        if not same: # if opposite of same\n",
    "            cls = random.choice(L(l for l in self.labels if l != cls)) # else pick a class thats not from the same class.\n",
    "        return random.choice(self.lbl2files[cls]),same \n",
    "        # if the same condition is met, then normally pick a file from the same class.\n",
    "        # also return the bool if it is true or false"
   ]
  },
  {
   "cell_type": "code",
   "execution_count": 186,
   "metadata": {
    "colab": {
     "base_uri": "https://localhost:8080/",
     "height": 138
    },
    "id": "jYvKx7M_dTcR",
    "outputId": "219f66a6-ece4-438e-e332-ed07485be3bb"
   },
   "outputs": [
    {
     "data": {
      "image/png": "[encoded data removed]",
      "text/plain": [
       "<Figure size 360x360 with 1 Axes>"
      ]
     },
     "metadata": {
      "needs_background": "light",
      "tags": []
     },
     "output_type": "display_data"
    }
   ],
   "source": [
    "splits = RandomSplitter()(files)\n",
    "tfm = SiameseTransform(files, label_func, splits)\n",
    "tfm(files[4]).show();"
   ]
  },
  {
   "cell_type": "code",
   "execution_count": 184,
   "metadata": {
    "colab": {
     "base_uri": "https://localhost:8080/"
    },
    "id": "ydvGTRBleX_6",
    "outputId": "693e44b5-bbe6-44dd-82b8-fdab9f8e0058"
   },
   "outputs": [
    {
     "data": {
      "text/plain": [
       "((#2936) [1418,3554,2515,712,2504,808,1371,1149,1555,41...],\n",
       " (#734) [3227,1428,1362,1125,1885,2259,2490,2629,1052,918...])"
      ]
     },
     "execution_count": 184,
     "metadata": {
      "tags": []
     },
     "output_type": "execute_result"
    }
   ],
   "source": [
    "splits "
   ]
  },
  {
   "cell_type": "code",
   "execution_count": 187,
   "metadata": {
    "colab": {
     "base_uri": "https://localhost:8080/",
     "height": 228
    },
    "id": "yAcKnQXddTcR",
    "outputId": "561ccae3-d6df-4d81-d502-3462033ed426"
   },
   "outputs": [
    {
     "data": {
      "image/png": "[encoded data removed]",
      "text/plain": [
       "<Figure size 360x360 with 1 Axes>"
      ]
     },
     "metadata": {
      "needs_background": "light",
      "tags": []
     },
     "output_type": "display_data"
    }
   ],
   "source": [
    "tls = TfmdLists(files, tfm, splits=splits)\n",
    "show_at(tls.valid, 0);"
   ]
  },
  {
   "cell_type": "code",
   "execution_count": 189,
   "metadata": {
    "id": "3xck8QlBdTcR"
   },
   "outputs": [],
   "source": [
    "dls = tls.dataloaders(after_item=[Resize(224), ToTensor], \n",
    "    after_batch=[IntToFloatTensor, Normalize.from_stats(*imagenet_stats)])"
   ]
  },
  {
   "cell_type": "code",
   "execution_count": 193,
   "metadata": {
    "colab": {
     "base_uri": "https://localhost:8080/"
    },
    "id": "VXaLpJE9iyuZ",
    "outputId": "f287535a-94c8-4f26-853e-da65b77ab3a1"
   },
   "outputs": [
    {
     "data": {
      "text/plain": [
       "(TensorImage([[[[ 1.0331,  1.0502,  1.0159,  ...,  0.3309,  0.2967,  0.2967],\n",
       "           [ 0.9988,  1.0159,  1.0159,  ...,  0.3138,  0.2796,  0.2796],\n",
       "           [ 0.9817,  0.9988,  1.0159,  ...,  0.2967,  0.2796,  0.2624],\n",
       "           ...,\n",
       "           [-0.5424, -0.5938, -0.6623,  ..., -1.1932, -0.9877, -0.9534],\n",
       "           [-0.5938, -0.6109, -0.6452,  ..., -1.3130, -1.0048, -0.9363],\n",
       "           [-0.6109, -0.6109, -0.6452,  ..., -1.4672, -1.1247, -0.9192]],\n",
       " \n",
       "          [[ 0.8354,  0.8529,  0.8529,  ..., -0.1450, -0.1625, -0.1625],\n",
       "           [ 0.8179,  0.8529,  0.8529,  ..., -0.1625, -0.1800, -0.1800],\n",
       "           [ 0.8179,  0.8354,  0.8529,  ..., -0.1975, -0.1800, -0.1975],\n",
       "           ...,\n",
       "           [-0.5826, -0.6352, -0.6877,  ..., -0.8803, -0.8627, -1.0728],\n",
       "           [-0.6176, -0.6352, -0.6702,  ..., -1.0378, -0.8277, -0.9678],\n",
       "           [-0.6001, -0.6352, -0.6702,  ..., -1.1779, -0.8978, -0.8627]],\n",
       " \n",
       "          [[ 0.6356,  0.6531,  0.6531,  ..., -0.5844, -0.6018, -0.5844],\n",
       "           [ 0.6182,  0.6531,  0.6531,  ..., -0.5844, -0.6018, -0.6018],\n",
       "           [ 0.6182,  0.6356,  0.6531,  ..., -0.6018, -0.6018, -0.6367],\n",
       "           ...,\n",
       "           [-1.4036, -1.5256, -1.7173,  ..., -1.7870, -1.7696, -1.6824],\n",
       "           [-1.4907, -1.5779, -1.6999,  ..., -1.7870, -1.7522, -1.6824],\n",
       "           [-1.5256, -1.6127, -1.6824,  ..., -1.7870, -1.7696, -1.7522]]],\n",
       " \n",
       " \n",
       "         [[[-0.0629,  0.0398,  0.0912,  ...,  0.1597,  0.0912,  0.1083],\n",
       "           [ 0.0398,  0.0569,  0.1083,  ...,  0.1426,  0.0912,  0.0912],\n",
       "           [ 0.0912,  0.0912,  0.1083,  ...,  0.1768,  0.1426,  0.1254],\n",
       "           ...,\n",
       "           [ 0.0912,  0.0741,  0.1083,  ..., -1.9124, -1.2274, -0.4397],\n",
       "           [ 0.0398,  0.0741,  0.0569,  ..., -1.9467, -1.9809, -1.3302],\n",
       "           [-0.0629,  0.0741,  0.0398,  ..., -1.9638, -2.0837, -1.9638]],\n",
       " \n",
       "          [[ 0.5903,  0.6779,  0.7304,  ...,  0.8179,  0.7829,  0.8354],\n",
       "           [ 0.6429,  0.6954,  0.7479,  ...,  0.8354,  0.8004,  0.8179],\n",
       "           [ 0.6954,  0.7654,  0.7829,  ...,  0.8704,  0.8529,  0.8529],\n",
       "           ...,\n",
       "           [ 0.4503,  0.5378,  0.5203,  ..., -1.4580, -0.4251,  0.4503],\n",
       "           [ 0.3978,  0.4153,  0.4153,  ..., -1.7381, -1.5980, -0.7752],\n",
       "           [ 0.4153,  0.3277,  0.3277,  ..., -1.8957, -1.8431, -1.7031]],\n",
       " \n",
       "          [[-0.9504, -0.9504, -0.8981,  ..., -0.4973, -0.5670, -0.5844],\n",
       "           [-0.9330, -0.9678, -0.9330,  ..., -0.4973, -0.5495, -0.6018],\n",
       "           [-0.9678, -1.0376, -1.0027,  ..., -0.4973, -0.5147, -0.5670],\n",
       "           ...,\n",
       "           [-0.4798, -0.5321, -0.4275,  ..., -1.7173, -1.6824, -1.6824],\n",
       "           [-0.7064, -0.7238, -0.6890,  ..., -1.7173, -1.7696, -1.7870],\n",
       "           [-1.0550, -0.8458, -0.8284,  ..., -1.5779, -1.6999, -1.5430]]],\n",
       " \n",
       " \n",
       "         [[[-1.0219, -1.0733, -1.0048,  ...,  1.6667,  1.5810,  1.6324],\n",
       "           [-1.0733, -1.0904, -1.0219,  ...,  1.6838,  1.5468,  1.2557],\n",
       "           [-1.0904, -1.1075, -1.0219,  ...,  1.2043,  0.8789,  0.5364],\n",
       "           ...,\n",
       "           [ 2.2489,  2.2489,  2.2489,  ...,  1.6153,  1.5639,  1.6667],\n",
       "           [ 2.2489,  2.2489,  2.2489,  ...,  1.6838,  1.7180,  1.7523],\n",
       "           [ 2.2489,  2.2489,  2.2489,  ...,  1.7523,  1.7523,  1.6838]],\n",
       " \n",
       "          [[-1.0553, -1.0553, -1.0378,  ...,  1.7633,  1.7108,  1.7458],\n",
       "           [-1.1078, -1.0728, -1.0378,  ...,  1.6232,  1.5182,  1.1856],\n",
       "           [-1.1604, -1.0728, -1.0028,  ...,  1.0280,  0.6429,  0.2927],\n",
       "           ...,\n",
       "           [ 2.4286,  2.4286,  2.4286,  ...,  1.7108,  1.6583,  1.7458],\n",
       "           [ 2.4286,  2.4286,  2.4286,  ...,  1.7808,  1.8158,  1.8508],\n",
       "           [ 2.4286,  2.4286,  2.4286,  ...,  1.8683,  1.8508,  1.7808]],\n",
       " \n",
       "          [[-0.8807, -0.8284, -0.7761,  ...,  2.4309,  2.3437,  2.3263],\n",
       "           [-0.9330, -0.8458, -0.7761,  ...,  2.2566,  2.0997,  1.7337],\n",
       "           [-0.9678, -0.8633, -0.7587,  ...,  1.5245,  1.1585,  0.7925],\n",
       "           ...,\n",
       "           [ 2.6400,  2.6400,  2.6400,  ...,  2.3611,  2.3088,  2.4134],\n",
       "           [ 2.6400,  2.6400,  2.6400,  ...,  2.4309,  2.4657,  2.5006],\n",
       "           [ 2.6400,  2.6400,  2.6400,  ...,  2.5006,  2.5006,  2.4309]]],\n",
       " \n",
       " \n",
       "         ...,\n",
       " \n",
       " \n",
       "         [[[-0.2856, -0.2856, -0.2856,  ..., -0.1486, -0.1486, -0.1314],\n",
       "           [-0.2684, -0.2513, -0.2684,  ..., -0.1143, -0.1314, -0.1143],\n",
       "           [-0.2684, -0.2513, -0.2513,  ..., -0.1143, -0.1143, -0.0972],\n",
       "           ...,\n",
       "           [-1.3644, -1.3130, -1.1760,  ...,  0.3823,  0.1939,  0.2624],\n",
       "           [-0.6794, -0.6965, -0.6109,  ...,  0.3138,  0.3309,  0.4851],\n",
       "           [-0.5253, -0.5767, -0.4911,  ...,  0.2111,  0.1426,  0.1083]],\n",
       " \n",
       "          [[ 0.6429,  0.6429,  0.6429,  ...,  0.8179,  0.8179,  0.8354],\n",
       "           [ 0.6604,  0.6779,  0.6604,  ...,  0.8529,  0.8354,  0.8529],\n",
       "           [ 0.6604,  0.6779,  0.6779,  ...,  0.8529,  0.8529,  0.8529],\n",
       "           ...,\n",
       "           [-1.0728, -1.0028, -0.9153,  ...,  0.5203,  0.4328,  0.4503],\n",
       "           [-0.3901, -0.4251, -0.3200,  ...,  0.4678,  0.5378,  0.5553],\n",
       "           [-0.2325, -0.3200, -0.1975,  ...,  0.4153,  0.4153,  0.3978]],\n",
       " \n",
       "          [[ 1.7337,  1.7337,  1.7337,  ...,  1.8905,  1.8905,  1.9254],\n",
       "           [ 1.7511,  1.7685,  1.7511,  ...,  1.9254,  1.9080,  1.9254],\n",
       "           [ 1.7511,  1.7685,  1.7685,  ...,  1.9254,  1.9254,  1.9254],\n",
       "           ...,\n",
       "           [-1.6824, -1.6824, -1.6824,  ..., -0.8633, -0.8110, -0.9156],\n",
       "           [-1.4907, -1.6127, -1.5604,  ..., -0.8981, -0.9156, -1.1073],\n",
       "           [-1.4733, -1.4733, -1.4559,  ..., -0.8807, -0.9330, -1.0027]]],\n",
       " \n",
       " \n",
       "         [[[ 1.0502,  1.0673,  1.0844,  ...,  0.3994,  0.3823,  0.4337],\n",
       "           [ 1.0673,  1.0844,  1.0844,  ...,  0.3994,  0.3823,  0.4166],\n",
       "           [ 1.0673,  1.1015,  1.1015,  ...,  0.3994,  0.3823,  0.4166],\n",
       "           ...,\n",
       "           [ 2.1804,  2.1975,  2.1975,  ...,  1.6667,  1.6667,  1.6838],\n",
       "           [ 2.1633,  2.1804,  2.1804,  ...,  1.6667,  1.6838,  1.6667],\n",
       "           [ 2.1462,  2.1633,  2.1975,  ...,  1.6838,  1.6838,  1.6667]],\n",
       " \n",
       "          [[ 0.3803,  0.4328,  0.4503,  ..., -0.2675, -0.2850, -0.2325],\n",
       "           [ 0.3978,  0.4503,  0.4678,  ..., -0.2675, -0.2850, -0.2500],\n",
       "           [ 0.4328,  0.4678,  0.4853,  ..., -0.2675, -0.2850, -0.2500],\n",
       "           ...,\n",
       "           [ 2.3585,  2.3761,  2.3761,  ...,  1.6758,  1.6758,  1.6758],\n",
       "           [ 2.3761,  2.3936,  2.3936,  ...,  1.6758,  1.6933,  1.6583],\n",
       "           [ 2.3761,  2.3936,  2.4111,  ...,  1.6933,  1.6933,  1.6583]],\n",
       " \n",
       "          [[ 0.1128,  0.1476,  0.1651,  ..., -0.4624, -0.4798, -0.4275],\n",
       "           [ 0.1302,  0.1651,  0.1825,  ..., -0.4624, -0.4798, -0.4450],\n",
       "           [ 0.1476,  0.1825,  0.1999,  ..., -0.4624, -0.4798, -0.4450],\n",
       "           ...,\n",
       "           [ 2.3960,  2.4134,  2.4134,  ...,  1.7337,  1.7337,  1.7163],\n",
       "           [ 2.3960,  2.4134,  2.4134,  ...,  1.7337,  1.7511,  1.6988],\n",
       "           [ 2.3960,  2.4134,  2.4309,  ...,  1.7511,  1.7511,  1.6988]]],\n",
       " \n",
       " \n",
       "         [[[-1.2445,  0.3481,  0.5364,  ...,  1.4783,  1.3927,  1.6495],\n",
       "           [-1.2445,  0.8961,  0.3652,  ...,  1.4783,  1.5982,  1.4440],\n",
       "           [-1.0904,  0.5022,  1.2728,  ...,  1.5125,  1.5810,  1.5468],\n",
       "           ...,\n",
       "           [ 0.7933,  0.6906,  0.5707,  ..., -0.5082, -0.6623, -0.7479],\n",
       "           [ 1.0159,  1.0159,  0.9303,  ..., -0.7993, -0.7993, -0.7308],\n",
       "           [-0.7822, -0.7308, -0.8164,  ..., -0.7308, -0.6623, -0.4739]],\n",
       " \n",
       "          [[-1.7206,  0.2752,  0.0301,  ..., -1.9132, -1.8606, -1.9482],\n",
       "           [-1.4755,  0.8704,  0.0476,  ..., -1.6331, -0.9503, -1.8081],\n",
       "           [-1.7731,  0.1702,  1.2906,  ..., -1.7381, -1.3004, -1.8782],\n",
       "           ...,\n",
       "           [-1.5280, -1.6681, -1.7031,  ..., -1.9307, -2.0182, -2.0182],\n",
       "           [-1.7556, -1.7731, -1.6506,  ..., -2.0007, -2.0007, -2.0182],\n",
       "           [-1.9832, -1.9307, -1.9482,  ..., -2.0182, -2.0007, -1.9832]],\n",
       " \n",
       "          [[-1.4384,  0.4614,  0.7228,  ..., -1.4733, -1.4384, -1.6650],\n",
       "           [-1.3339,  1.0888,  0.6705,  ..., -1.2119, -0.7238, -1.5779],\n",
       "           [-1.6127,  0.3219,  1.5594,  ..., -1.3339, -0.9504, -1.5953],\n",
       "           ...,\n",
       "           [-1.2641, -1.4210, -1.5081,  ..., -1.6999, -1.7870, -1.7870],\n",
       "           [-1.3339, -1.3861, -1.3513,  ..., -1.8044, -1.7522, -1.7696],\n",
       "           [-1.6999, -1.6476, -1.6650,  ..., -1.8044, -1.7870, -1.7696]]]], device='cuda:0'),\n",
       " TensorImage([[[[-0.1486, -0.1657, -0.3541,  ..., -0.9705, -0.8678, -0.8335],\n",
       "           [-0.8678, -0.6623, -0.6109,  ..., -1.0048, -0.9534, -0.7993],\n",
       "           [-1.3987, -1.2103, -1.0733,  ..., -1.0562, -1.0048, -0.9020],\n",
       "           ...,\n",
       "           [-2.1008, -2.0665, -2.0837,  ..., -2.1179, -2.1179, -2.1179],\n",
       "           [-2.0837, -2.0837, -2.1008,  ..., -2.1179, -2.1179, -2.1179],\n",
       "           [-2.1179, -2.1179, -2.1008,  ..., -2.1179, -2.1179, -2.1179]],\n",
       " \n",
       "          [[ 0.0301, -0.0399, -0.3725,  ..., -1.2479, -1.2304, -1.1253],\n",
       "           [-0.3200, -0.2325, -0.3375,  ..., -1.3179, -1.2829, -1.1954],\n",
       "           [-0.7052, -0.5826, -0.4426,  ..., -1.3880, -1.3529, -1.3004],\n",
       "           ...,\n",
       "           [-1.2304, -1.0728, -0.9153,  ..., -2.0357, -2.0357, -2.0357],\n",
       "           [-1.2304, -1.1253, -1.0028,  ..., -2.0357, -2.0357, -2.0357],\n",
       "           [-1.3004, -1.1954, -1.0728,  ..., -2.0357, -2.0357, -2.0357]],\n",
       " \n",
       "          [[-1.2990, -1.2119, -1.5953,  ..., -1.7870, -1.7870, -1.7870],\n",
       "           [-1.7522, -1.6476, -1.7173,  ..., -1.8044, -1.7870, -1.7696],\n",
       "           [-1.7696, -1.7696, -1.7696,  ..., -1.8044, -1.7870, -1.7870],\n",
       "           ...,\n",
       "           [-1.7870, -1.7870, -1.7522,  ..., -1.8044, -1.8044, -1.8044],\n",
       "           [-1.7696, -1.7870, -1.7870,  ..., -1.8044, -1.8044, -1.8044],\n",
       "           [-1.7870, -1.7870, -1.7870,  ..., -1.8044, -1.8044, -1.8044]]],\n",
       " \n",
       " \n",
       "         [[[ 1.1872,  1.3242,  1.2728,  ...,  1.4269,  1.5639,  1.4783],\n",
       "           [ 1.0502,  1.2899,  1.3070,  ...,  1.5297,  1.3927,  1.3070],\n",
       "           [ 0.9817,  1.1872,  1.3242,  ...,  1.3070,  1.2385,  1.1187],\n",
       "           ...,\n",
       "           [ 1.6324,  1.7352,  1.8208,  ...,  1.1700,  1.1015,  1.0844],\n",
       "           [ 1.7009,  1.7694,  1.8037,  ...,  1.0502,  1.0673,  1.1187],\n",
       "           [ 1.7523,  1.7865,  1.7009,  ...,  0.9474,  0.8961,  0.8789]],\n",
       " \n",
       "          [[ 0.9230,  1.0455,  0.9405,  ...,  1.3957,  1.5532,  1.5007],\n",
       "           [ 0.7304,  0.9930,  0.9930,  ...,  1.5182,  1.3431,  1.2731],\n",
       "           [ 0.6254,  0.8529,  1.0105,  ...,  1.2731,  1.1506,  1.0280],\n",
       "           ...,\n",
       "           [ 1.6057,  1.6758,  1.7108,  ...,  1.0980,  1.0630,  1.0805],\n",
       "           [ 1.6583,  1.7108,  1.6933,  ...,  0.9230,  1.0105,  1.0805],\n",
       "           [ 1.7283,  1.7283,  1.6057,  ...,  0.8179,  0.8004,  0.7829]],\n",
       " \n",
       "          [[-1.7696, -1.6999, -1.7347,  ..., -0.5844, -0.4275, -0.4624],\n",
       "           [-1.7347, -1.7347, -1.7347,  ..., -0.4450, -0.6018, -0.6367],\n",
       "           [-1.7696, -1.7347, -1.7173,  ..., -0.7064, -0.7936, -0.9504],\n",
       "           ...,\n",
       "           [-0.3578, -0.2707, -0.2707,  ..., -0.9853, -0.9678, -1.0027],\n",
       "           [-0.2707, -0.2184, -0.2707,  ..., -1.2641, -1.1247, -1.0376],\n",
       "           [-0.2184, -0.2707, -0.4101,  ..., -1.5081, -1.5604, -1.5430]]],\n",
       " \n",
       " \n",
       "         [[[ 0.9474,  0.9474,  0.9474,  ..., -1.3815, -1.3644, -0.9363],\n",
       "           [ 0.9474,  0.9474,  0.9474,  ..., -1.3130, -1.6727, -1.3987],\n",
       "           [ 0.9474,  0.9474,  0.9474,  ..., -1.3987, -1.6384, -1.8439],\n",
       "           ...,\n",
       "           [-1.2617, -1.2103, -1.1760,  ...,  0.7077,  0.6049,  0.0741],\n",
       "           [-1.3302, -1.2959, -1.2103,  ...,  0.0912, -0.0629, -0.6281],\n",
       "           [-1.3815, -1.3644, -1.2617,  ..., -0.6623, -1.2274, -0.3027]],\n",
       " \n",
       "          [[ 1.5532,  1.5532,  1.5532,  ..., -0.9853, -0.9853, -0.4776],\n",
       "           [ 1.5532,  1.5532,  1.5532,  ..., -0.9328, -1.3179, -0.9853],\n",
       "           [ 1.5532,  1.5532,  1.5532,  ..., -1.0903, -1.3529, -1.5105],\n",
       "           ...,\n",
       "           [-0.6877, -0.6352, -0.6001,  ...,  0.6604,  0.3452, -0.2850],\n",
       "           [-0.8102, -0.7577, -0.6702,  ..., -0.1625, -0.3200, -0.6527],\n",
       "           [-0.8627, -0.8452, -0.7402,  ..., -0.6001, -0.8803, -0.3200]],\n",
       " \n",
       "          [[ 2.2391,  2.2391,  2.2391,  ..., -1.6127, -1.5779, -1.4733],\n",
       "           [ 2.2391,  2.2391,  2.2391,  ..., -1.5081, -1.7173, -1.5953],\n",
       "           [ 2.2391,  2.2391,  2.2391,  ..., -1.5430, -1.5953, -1.7522],\n",
       "           ...,\n",
       "           [-0.9678, -0.9330, -0.9156,  ..., -1.4210, -1.2816, -1.4733],\n",
       "           [-1.0724, -1.0376, -0.9853,  ..., -1.7173, -1.6302, -1.3164],\n",
       "           [-1.1596, -1.1421, -1.0376,  ..., -1.5779, -1.4384, -1.4036]]],\n",
       " \n",
       " \n",
       "         ...,\n",
       " \n",
       " \n",
       "         [[[ 0.7591,  0.3309,  1.2043,  ..., -0.1828, -0.1657, -0.1828],\n",
       "           [ 1.6667,  1.6153,  1.8208,  ..., -0.1828, -0.2171, -0.2342],\n",
       "           [ 1.3755,  1.3242,  0.8618,  ..., -0.1999, -0.2342, -0.2684],\n",
       "           ...,\n",
       "           [-1.0562, -0.9363, -0.5596,  ..., -1.5528, -1.5528, -1.5357],\n",
       "           [-1.1760, -1.0219, -0.7822,  ..., -1.5185, -1.5185, -1.5528],\n",
       "           [-1.6042, -1.4158, -1.0904,  ..., -1.5185, -1.5014, -1.6042]],\n",
       " \n",
       "          [[-0.0224, -0.5476,  0.3102,  ..., -0.6352, -0.6176, -0.6176],\n",
       "           [ 1.2031,  1.1506,  1.3606,  ..., -0.6352, -0.6702, -0.6702],\n",
       "           [ 1.1856,  1.0105,  0.4153,  ..., -0.6527, -0.6877, -0.7227],\n",
       "           ...,\n",
       "           [-1.3880, -1.0203, -0.7927,  ..., -1.7556, -1.7031, -1.6856],\n",
       "           [-1.3354, -1.0728, -0.8627,  ..., -1.7031, -1.6681, -1.7031],\n",
       "           [-1.4755, -1.3880, -0.9678,  ..., -1.7031, -1.6331, -1.7381]],\n",
       " \n",
       "          [[ 0.4788, -0.0615,  0.7576,  ..., -0.1138, -0.0964, -0.1312],\n",
       "           [ 0.9319,  1.0365,  1.4200,  ..., -0.1138, -0.1487, -0.1835],\n",
       "           [ 0.6705,  0.7925,  0.5136,  ..., -0.1312, -0.1661, -0.2010],\n",
       "           ...,\n",
       "           [-1.0550, -0.8981, -0.7064,  ..., -1.2467, -1.2119, -1.1944],\n",
       "           [-1.0550, -0.9156, -0.7761,  ..., -1.2467, -1.2119, -1.2467],\n",
       "           [-1.2990, -1.2293, -0.9156,  ..., -1.2816, -1.2293, -1.3513]]],\n",
       " \n",
       " \n",
       "         [[[-1.9980, -2.0152, -1.9638,  ...,  2.1119,  2.1462,  2.0263],\n",
       "           [-1.9124, -1.9638, -2.0152,  ...,  1.8037,  1.3070,  0.8618],\n",
       "           [-1.9809, -1.9980, -1.9980,  ...,  0.5193,  0.6906,  1.0502],\n",
       "           ...,\n",
       "           [-2.0152, -2.0494, -2.1008,  ..., -1.8610, -1.6727, -1.5870],\n",
       "           [-2.0152, -2.0152, -2.0494,  ..., -1.0733, -1.6898, -1.5185],\n",
       "           [-1.8782, -1.8782, -1.9295,  ...,  0.3309, -1.6727, -1.5528]],\n",
       " \n",
       "          [[-1.8782, -1.8957, -1.8782,  ...,  2.3410,  2.3410,  2.2185],\n",
       "           [-1.7906, -1.8431, -1.9132,  ...,  2.0084,  1.6758,  1.2206],\n",
       "           [-1.8606, -1.8957, -1.9132,  ...,  1.0630,  1.0280,  1.3431],\n",
       "           ...,\n",
       "           [-1.9307, -1.9657, -2.0182,  ..., -1.6155, -1.4580, -1.4055],\n",
       "           [-1.8957, -1.9132, -1.9482,  ..., -0.5476, -1.4755, -1.3880],\n",
       "           [-1.7556, -1.7556, -1.8256,  ...,  1.1681, -1.4230, -1.4230]],\n",
       " \n",
       "          [[-1.6650, -1.6824, -1.5604,  ...,  2.5006,  2.5529,  2.3960],\n",
       "           [-1.5779, -1.6302, -1.5779,  ...,  2.3437,  2.2043,  1.8034],\n",
       "           [-1.6476, -1.6302, -1.5779,  ...,  2.0300,  2.0997,  2.0997],\n",
       "           ...,\n",
       "           [-1.6999, -1.7347, -1.7696,  ..., -1.5081, -1.4384, -1.4210],\n",
       "           [-1.6824, -1.6824, -1.7173,  ..., -1.4384, -1.6127, -1.3861],\n",
       "           [-1.5430, -1.5430, -1.5953,  ..., -1.0376, -1.6824, -1.4036]]],\n",
       " \n",
       " \n",
       "         [[[-1.2445,  0.3481,  0.5364,  ...,  1.4783,  1.3927,  1.6495],\n",
       "           [-1.2445,  0.8961,  0.3652,  ...,  1.4783,  1.5982,  1.4440],\n",
       "           [-1.0904,  0.5022,  1.2728,  ...,  1.5125,  1.5810,  1.5468],\n",
       "           ...,\n",
       "           [ 0.7933,  0.6906,  0.5707,  ..., -0.5082, -0.6623, -0.7479],\n",
       "           [ 1.0159,  1.0159,  0.9303,  ..., -0.7993, -0.7993, -0.7308],\n",
       "           [-0.7822, -0.7308, -0.8164,  ..., -0.7308, -0.6623, -0.4739]],\n",
       " \n",
       "          [[-1.7206,  0.2752,  0.0301,  ..., -1.9132, -1.8606, -1.9482],\n",
       "           [-1.4755,  0.8704,  0.0476,  ..., -1.6331, -0.9503, -1.8081],\n",
       "           [-1.7731,  0.1702,  1.2906,  ..., -1.7381, -1.3004, -1.8782],\n",
       "           ...,\n",
       "           [-1.5280, -1.6681, -1.7031,  ..., -1.9307, -2.0182, -2.0182],\n",
       "           [-1.7556, -1.7731, -1.6506,  ..., -2.0007, -2.0007, -2.0182],\n",
       "           [-1.9832, -1.9307, -1.9482,  ..., -2.0182, -2.0007, -1.9832]],\n",
       " \n",
       "          [[-1.4384,  0.4614,  0.7228,  ..., -1.4733, -1.4384, -1.6650],\n",
       "           [-1.3339,  1.0888,  0.6705,  ..., -1.2119, -0.7238, -1.5779],\n",
       "           [-1.6127,  0.3219,  1.5594,  ..., -1.3339, -0.9504, -1.5953],\n",
       "           ...,\n",
       "           [-1.2641, -1.4210, -1.5081,  ..., -1.6999, -1.7870, -1.7870],\n",
       "           [-1.3339, -1.3861, -1.3513,  ..., -1.8044, -1.7522, -1.7696],\n",
       "           [-1.6999, -1.6476, -1.6650,  ..., -1.8044, -1.7870, -1.7696]]]], device='cuda:0'),\n",
       " tensor([False, False, False,  True,  True, False, False, False,  True,  True, False,  True, False, False, False,  True,  True,  True,  True,  True,  True,  True, False, False,  True, False, False,\n",
       "         False, False,  True,  True, False, False,  True, False,  True,  True, False, False,  True, False,  True,  True,  True, False, False, False,  True,  True,  True,  True,  True, False, False,\n",
       "         False, False, False, False,  True, False, False,  True,  True,  True], device='cuda:0'))"
      ]
     },
     "execution_count": 193,
     "metadata": {
      "tags": []
     },
     "output_type": "execute_result"
    }
   ],
   "source": [
    "dls.one_batch()"
   ]
  },
  {
   "cell_type": "markdown",
   "metadata": {
    "id": "SOudpTSvdTcR"
   },
   "source": [
    "## Conclusion"
   ]
  },
  {
   "cell_type": "markdown",
   "metadata": {
    "id": "cqKRNaZ8dTcR"
   },
   "source": [
    "## Questionnaire"
   ]
  },
  {
   "cell_type": "markdown",
   "metadata": {
    "id": "nq-KeI_-dTcS"
   },
   "source": [
    "1. Why do we say that fastai has a \"layered\" API? What does it mean?\n",
    "1. Why does a `Transform` have a `decode` method? What does it do?\n",
    "1. Why does a `Transform` have a `setup` method? What does it do?\n",
    "1. How does a `Transform` work when called on a tuple?\n",
    "1. Which methods do you need to implement when writing your own `Transform`?\n",
    "1. Write a `Normalize` transform that fully normalizes items (subtract the mean and divide by the standard deviation of the dataset), and that can decode that behavior. Try not to peek!\n",
    "1. Write a `Transform` that does the numericalization of tokenized texts (it should set its vocab automatically from the dataset seen and have a `decode` method). Look at the source code of fastai if you need help.\n",
    "1. What is a `Pipeline`?\n",
    "1. What is a `TfmdLists`? \n",
    "1. What is a `Datasets`? How is it different from a `TfmdLists`?\n",
    "1. Why are `TfmdLists` and `Datasets` named with an \"s\"?\n",
    "1. How can you build a `DataLoaders` from a `TfmdLists` or a `Datasets`?\n",
    "1. How do you pass `item_tfms` and `batch_tfms` when building a `DataLoaders` from a `TfmdLists` or a `Datasets`?\n",
    "1. What do you need to do when you want to have your custom items work with methods like `show_batch` or `show_results`?\n",
    "1. Why can we easily apply fastai data augmentation transforms to the `SiamesePair` we built?"
   ]
  },
  {
   "cell_type": "markdown",
   "metadata": {
    "id": "E7bXpbO1dTcS"
   },
   "source": [
    "### Further Research"
   ]
  },
  {
   "cell_type": "markdown",
   "metadata": {
    "id": "Tbd1LALHdTcS"
   },
   "source": [
    "1. Use the mid-level API to prepare the data in `DataLoaders` on your own datasets. Try this with the Pet dataset and the Adult dataset from Chapter 1.\n",
    "1. Look at the Siamese tutorial in the fastai documentation to learn how to customize the behavior of `show_batch` and `show_results` for new type of items. Implement it in your own project."
   ]
  },
  {
   "cell_type": "markdown",
   "metadata": {
    "id": "nHsvBkUadTcS"
   },
   "source": [
    "## Understanding fastai's Applications: Wrap Up"
   ]
  },
  {
   "cell_type": "markdown",
   "metadata": {
    "id": "kTExjFo0dTcS"
   },
   "source": [
    "Congratulations—you've completed all of the chapters in this book that cover the key practical parts of training models and using deep learning! You know how to use all of fastai's built-in applications, and how to customize them using the data block API and loss functions. You even know how to create a neural network from scratch, and train it! (And hopefully you now know some of the questions to ask to make sure your creations help improve society too.)\n",
    "\n",
    "The knowledge you already have is enough to create full working prototypes of many types of neural network applications. More importantly, it will help you understand the capabilities and limitations of deep learning models, and how to design a system that's well adapted to them.\n",
    "\n",
    "In the rest of this book we will be pulling apart those applications, piece by piece, to understand the foundations they are built on. This is important knowledge for a deep learning practitioner, because it is what allows you to inspect and debug models that you build and create new applications that are customized for your particular projects."
   ]
  },
  {
   "cell_type": "code",
   "execution_count": null,
   "metadata": {
    "id": "jY6gQn0IdTcT"
   },
   "outputs": [],
   "source": []
  }
 ],
 "metadata": {
  "accelerator": "GPU",
  "colab": {
   "collapsed_sections": [
    "E7bXpbO1dTcS"
   ],
   "name": "11_midlevel_data.ipynb",
   "provenance": []
  },
  "jupytext": {
   "split_at_heading": true
  },
  "kernelspec": {
   "display_name": "Python 3",
   "language": "python",
   "name": "python3"
  },
  "language_info": {
   "codemirror_mode": {
    "name": "ipython",
    "version": 3
   },
   "file_extension": ".py",
   "mimetype": "text/x-python",
   "name": "python",
   "nbconvert_exporter": "python",
   "pygments_lexer": "ipython3",
   "version": "3.9.3"
  }
 },
 "nbformat": 4,
 "nbformat_minor": 1
}
